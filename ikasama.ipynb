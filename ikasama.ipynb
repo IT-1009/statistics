{
 "cells": [
  {
   "cell_type": "markdown",
   "id": "289d2098",
   "metadata": {},
   "source": [
    "# 分散・標準偏差\n",
    "### 統計学における分散や標準偏差が表す意味を言葉だけでなくグラフなどで直感的に学ぶ"
   ]
  },
  {
   "cell_type": "markdown",
   "id": "89c5e5e3",
   "metadata": {},
   "source": [
    "分散や標準偏差はデータのばらつきを表す指標であるが、どれほどの散らばりに対する評価なのかは感覚として分かりづらい。そのため今回は、サイコロを2回振り、それぞれの出た目の合計をグラフ化する。そしてそこから分散や標準偏差が何を評価しているかを理解する。"
   ]
  },
  {
   "cell_type": "markdown",
   "id": "b6d0f8f0",
   "metadata": {},
   "source": [
    "まずはサイコロを作成する。今回はダイスの目を配列で扱う。理由はのちに説明する。"
   ]
  },
  {
   "cell_type": "code",
   "execution_count": 1,
   "id": "fcd4ce7a",
   "metadata": {},
   "outputs": [],
   "source": [
    "import numpy as np\n",
    "import matplotlib.pyplot as plt\n",
    "import random\n",
    "dice = [1, 2, 3, 4, 5, 6]"
   ]
  },
  {
   "cell_type": "code",
   "execution_count": 2,
   "id": "4e4dd312",
   "metadata": {},
   "outputs": [],
   "source": [
    "#2つのサイコロで1~6の目をランダムに10000回出す\n",
    "num_trial = 10000\n",
    "normal = np.random.choice(dice, num_trial)\n",
    "normal2 = np.random.choice(dice, num_trial)"
   ]
  },
  {
   "cell_type": "code",
   "execution_count": 3,
   "id": "5cc4c192",
   "metadata": {},
   "outputs": [],
   "source": [
    "#2つの目の合計をnormalSとする\n",
    "normalS = normal + normal2"
   ]
  },
  {
   "cell_type": "code",
   "execution_count": 4,
   "id": "19ae8bcb",
   "metadata": {},
   "outputs": [
    {
     "name": "stdout",
     "output_type": "stream",
     "text": [
      "6.9771\n"
     ]
    },
    {
     "data": {
      "image/png": "[encoded data removed]",
      "text/plain": [
       "<Figure size 432x288 with 1 Axes>"
      ]
     },
     "metadata": {
      "needs_background": "light"
     },
     "output_type": "display_data"
    }
   ],
   "source": [
    "average = sum(normalS) / len(normalS)\n",
    "print(average)\n",
    "plt.hist(normalS, bins=50)\n",
    "plt.show()"
   ]
  },
  {
   "cell_type": "markdown",
   "id": "f819a2e8",
   "metadata": {},
   "source": [
    "得られた平均値は6.9771になった。サイコロを2つ投げて出た目の和の平均値は7であるから、結果よりこのグラフはある程度正確であることが予想できる。\n",
    "このグラフは綺麗な三角形をしている。平均値である7が出やすく、また7から同じだけ離れている2・12に近い値ほど、その値は出づらい。つまりこのグラフは偏りが無いグラフであることが分かる。\n",
    "このグラフにおける分散や標準偏差は以下のようである。"
   ]
  },
  {
   "cell_type": "code",
   "execution_count": 5,
   "id": "098680e3",
   "metadata": {},
   "outputs": [
    {
     "data": {
      "text/plain": [
       "5.736175589999999"
      ]
     },
     "execution_count": 5,
     "metadata": {},
     "output_type": "execute_result"
    }
   ],
   "source": [
    "#分散\n",
    "np.var(normalS)"
   ]
  },
  {
   "cell_type": "code",
   "execution_count": 6,
   "id": "7fc78e5e",
   "metadata": {},
   "outputs": [
    {
     "data": {
      "text/plain": [
       "2.3950314382070226"
      ]
     },
     "execution_count": 6,
     "metadata": {},
     "output_type": "execute_result"
    }
   ],
   "source": [
    "#標準偏差\n",
    "np.sqrt(np.var(normalS,ddof=0))"
   ]
  },
  {
   "cell_type": "markdown",
   "id": "54f3be80",
   "metadata": {},
   "source": [
    "分散や標準偏差の値が分かったが、普段統計を使わない人に突然「この値がデータのばらつきを表している。」と説明してもやはり何を評価したものなのか分からないだろう。そこでもう1つグラフを作り、それと比較することにする。"
   ]
  },
  {
   "cell_type": "markdown",
   "id": "0b633157",
   "metadata": {},
   "source": [
    "今度は普通のサイコロではなく、出る目に偏りがあるイカサマのサイコロを作成する。得られる結果を変化させることで平均値や期待値の偏りも変化するのでそこに着目する。"
   ]
  },
  {
   "cell_type": "code",
   "execution_count": 7,
   "id": "ec5a3e4c",
   "metadata": {},
   "outputs": [],
   "source": [
    "#確率の設定。それぞれの目に対して配列の位置が対応している。ここでは６の目が8/21の確率で出ることとなる。\n",
    "prob = [1/21, 1/21, 1/21, 5/21, 5/21, 8/21]\n",
    "num_trial = 10000\n",
    "ikasama = np.random.choice(dice, num_trial, p=prob)\n",
    "ikasama2 = np.random.choice(dice, num_trial, p=prob)"
   ]
  },
  {
   "cell_type": "code",
   "execution_count": 8,
   "id": "5608480a",
   "metadata": {},
   "outputs": [],
   "source": [
    "ikasamaS = ikasama + ikasama2"
   ]
  },
  {
   "cell_type": "code",
   "execution_count": 9,
   "id": "fe1ed332",
   "metadata": {},
   "outputs": [
    {
     "name": "stdout",
     "output_type": "stream",
     "text": [
      "9.4023\n"
     ]
    },
    {
     "data": {
      "image/png": "[encoded data removed]",
      "text/plain": [
       "<Figure size 432x288 with 1 Axes>"
      ]
     },
     "metadata": {
      "needs_background": "light"
     },
     "output_type": "display_data"
    }
   ],
   "source": [
    "average = sum(ikasamaS) / len(ikasamaS)\n",
    "print(average)\n",
    "plt.hist(ikasamaS, bins=50)\n",
    "plt.show()"
   ]
  },
  {
   "cell_type": "markdown",
   "id": "7cd70c3e",
   "metadata": {},
   "source": [
    "得られた平均値は9.4023になった。イカサマサイコロを2つ投げて出る目の和の期待値は9.4であるから、結果よりこのグラフはある程度正確であることが予想できる。\n",
    "このグラフは一目で偏りがあるグラフであることが分かる。明らかに7以上が出やすく、また2よりも12が出やすいことが一目で分かる。\n",
    "このグラフにおける分散や標準偏差は以下のようである。"
   ]
  },
  {
   "cell_type": "code",
   "execution_count": 10,
   "id": "b4293f88",
   "metadata": {},
   "outputs": [
    {
     "data": {
      "text/plain": [
       "3.9694547100000004"
      ]
     },
     "execution_count": 10,
     "metadata": {},
     "output_type": "execute_result"
    }
   ],
   "source": [
    "#分散\n",
    "np.var(ikasamaS)"
   ]
  },
  {
   "cell_type": "code",
   "execution_count": 11,
   "id": "a68ae9ea",
   "metadata": {},
   "outputs": [
    {
     "data": {
      "text/plain": [
       "1.9923490432150688"
      ]
     },
     "execution_count": 11,
     "metadata": {},
     "output_type": "execute_result"
    }
   ],
   "source": [
    "#標準偏差\n",
    "np.sqrt(np.var(ikasamaS,ddof=0))"
   ]
  },
  {
   "cell_type": "markdown",
   "id": "f43ef34b",
   "metadata": {},
   "source": [
    "1個目のデータから得られた分散や標準偏差の値に比べ、こちらの値は小さくなったことが分かる。\n",
    "このことから何が言えるか。さらに、比較しやすいように2つのグラフを重ねたものも作成してみる。"
   ]
  },
  {
   "cell_type": "code",
   "execution_count": 12,
   "id": "f9f1d462",
   "metadata": {},
   "outputs": [
    {
     "data": {
      "image/png": "[encoded data removed]",
      "text/plain": [
       "<Figure size 432x288 with 1 Axes>"
      ]
     },
     "metadata": {
      "needs_background": "light"
     },
     "output_type": "display_data"
    }
   ],
   "source": [
    "plt.figure()\n",
    "plt.hist(normalS, bins=50, alpha=0.25, color='r')   # 普通のサイコロ\n",
    "plt.hist(ikasamaS, bins=50, alpha=0.25, color='b')  # イカサマサイコロ\n",
    "plt.show()"
   ]
  },
  {
   "cell_type": "markdown",
   "id": "6a64362a",
   "metadata": {},
   "source": [
    "1個目のグラフは赤色(グラフA)、2個目のグラフは青色（グラフB）である。紫色は2つのグラフで重なっている部分である。\n",
    "またグラフAの期待値は7、グラフBの期待値は9.4、であることを思い出して考える。\n",
    "するとグラフBはグラフAよりも平均値によった値が多いことが分かる。"
   ]
  },
  {
   "cell_type": "markdown",
   "id": "0c509881",
   "metadata": {},
   "source": [
    "これを表現した値が分散なのである。データ全体としての平均値に偏りがあるかどうかを判断する値が分散なのである。平均値から離れた値が多ければ分散の値は大きくなり、また平均値に近い値が多ければ多いほど分散の値が小さくなるのである。\n",
    "また分散はデータの二乗という単位である。これは抽象的なデータのばらつきを理解するのには良いが、より具体的にばらつきを理解したいときには向かない。そこで、データと同じ単位のばらつきの指標として標準偏差をとるである。"
   ]
  },
  {
   "cell_type": "code",
   "execution_count": null,
   "id": "e41237c7",
   "metadata": {},
   "outputs": [],
   "source": []
  }
 ],
 "metadata": {
  "kernelspec": {
   "display_name": "Python 3",
   "language": "python",
   "name": "python3"
  },
  "language_info": {
   "codemirror_mode": {
    "name": "ipython",
    "version": 3
   },
   "file_extension": ".py",
   "mimetype": "text/x-python",
   "name": "python",
   "nbconvert_exporter": "python",
   "pygments_lexer": "ipython3",
   "version": "3.8.8"
  }
 },
 "nbformat": 4,
 "nbformat_minor": 5
}
