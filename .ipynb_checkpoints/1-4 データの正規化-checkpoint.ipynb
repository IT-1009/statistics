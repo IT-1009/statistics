{
 "cells": [
  {
   "cell_type": "markdown",
   "id": "5b246bc4-ac66-4f83-b3ad-90448dfec54f",
   "metadata": {},
   "source": [
    "# 1-4　データの正規化"
   ]
  },
  {
   "cell_type": "markdown",
   "id": "051ef043-7755-4b04-98cd-bace51efcf60",
   "metadata": {},
   "source": [
    "### データの正規化とは\n",
    "様々なデータを扱うためにはデータを統一的に評価する方法が必要になる. データの正規化はデータ解析の典型的な手法である."
   ]
  },
  {
   "cell_type": "markdown",
   "id": "5b9c00e5-b73a-4c5f-9584-dd20726df711",
   "metadata": {},
   "source": [
    "### 標準化\n",
    "あるデータから平均を引き、標準偏差で割る操作を標準化(z-score normalization)という. また、標準化されたデータは基準化変量やZスコアと呼ばれることもある. 各数値を$x_{i}$、平均値を$\\bar{x}$、標準偏差を$\\sigma$、そして$x_{i}$を標準化したものを$z_{i}$とすると\n",
    "\\begin{equation}\n",
    "\\ z_{i} = \\frac{x_{i} - \\bar{x}}{\\sigma}\n",
    "\\end{equation}\n",
    "と表せる."
   ]
  },
  {
   "cell_type": "markdown",
   "id": "73060742-f867-455a-9cb6-426f4654e4d7",
   "metadata": {},
   "source": [
    "### 偏差値\n",
    "偏差値は平均が50、標準偏差が10になるように正規化した値のことをいう. 偏差値はTスコアとも呼ばれる. 各数値を$x_{i}$、平均値を$\\bar{x}$、標準偏差を$\\sigma$、そして$x_{i}$を標準化したものを$t_{i}$とすると\n",
    "\\begin{equation}\n",
    "\\ t_{i} = 50 + 10 × \\frac{x_{i} - \\bar{x}}{\\sigma}\n",
    "\\end{equation}\n",
    "と表せる."
   ]
  },
  {
   "cell_type": "markdown",
   "id": "ae89e4c1-b962-441d-a09c-079083b5149a",
   "metadata": {},
   "source": [
    "***"
   ]
  },
  {
   "cell_type": "markdown",
   "id": "4d331ed7-faeb-4a0f-8651-5d76a051ec0f",
   "metadata": {},
   "source": [
    "### このページの流れ\n",
    "このページでは正規化についての説明をする. 例として1-3で使用したデータと同じ学生のテストの点数を使って話を行う. "
   ]
  },
  {
   "cell_type": "markdown",
   "id": "a1ed4b01-b3f1-4af8-9f8f-50812dffb894",
   "metadata": {},
   "source": [
    "***"
   ]
  },
  {
   "cell_type": "markdown",
   "id": "78c6087f-50cc-4bff-9fa8-e0454ee249ca",
   "metadata": {},
   "source": [
    "### ➀標準化を行う\n",
    "では、実際のデータを標準化してみる. まず、10人のテストの点数で標準化を行う. 1-3と同様の流れでcsvファイルの読み込みを行い、その後標準化したデータの値を確認する. "
   ]
  },
  {
   "cell_type": "code",
   "execution_count": 1,
   "id": "8d810af8-9b24-4255-be14-27f01dcf943d",
   "metadata": {},
   "outputs": [],
   "source": [
    "import numpy as np\n",
    "import pandas as pd\n",
    "import random\n",
    "from decimal import Decimal, ROUND_HALF_UP"
   ]
  },
  {
   "cell_type": "code",
   "execution_count": 2,
   "id": "c52f00a4-b403-437e-bd77-3521f6ec5610",
   "metadata": {},
   "outputs": [],
   "source": [
    "#csvファイルの読み込みを行う。\n",
    "df = pd.read_csv('data/suugaku.csv',\n",
    "                 index_col='生徒番号')\n",
    "#１0人分の数学のデータを使う\n",
    "scores = np.array(df['数学'])[:10]"
   ]
  },
  {
   "cell_type": "code",
   "execution_count": 3,
   "id": "f738ff1c-609f-4cc1-8329-c22265e64f91",
   "metadata": {},
   "outputs": [
    {
     "data": {
      "text/html": [
       "<div>\n",
       "<style scoped>\n",
       "    .dataframe tbody tr th:only-of-type {\n",
       "        vertical-align: middle;\n",
       "    }\n",
       "\n",
       "    .dataframe tbody tr th {\n",
       "        vertical-align: top;\n",
       "    }\n",
       "\n",
       "    .dataframe thead th {\n",
       "        text-align: right;\n",
       "    }\n",
       "</style>\n",
       "<table border=\"1\" class=\"dataframe\">\n",
       "  <thead>\n",
       "    <tr style=\"text-align: right;\">\n",
       "      <th></th>\n",
       "      <th>点数</th>\n",
       "    </tr>\n",
       "    <tr>\n",
       "      <th>生徒</th>\n",
       "      <th></th>\n",
       "    </tr>\n",
       "  </thead>\n",
       "  <tbody>\n",
       "    <tr>\n",
       "      <th>A</th>\n",
       "      <td>53</td>\n",
       "    </tr>\n",
       "    <tr>\n",
       "      <th>B</th>\n",
       "      <td>54</td>\n",
       "    </tr>\n",
       "    <tr>\n",
       "      <th>C</th>\n",
       "      <td>48</td>\n",
       "    </tr>\n",
       "    <tr>\n",
       "      <th>D</th>\n",
       "      <td>50</td>\n",
       "    </tr>\n",
       "    <tr>\n",
       "      <th>E</th>\n",
       "      <td>28</td>\n",
       "    </tr>\n",
       "    <tr>\n",
       "      <th>F</th>\n",
       "      <td>58</td>\n",
       "    </tr>\n",
       "    <tr>\n",
       "      <th>G</th>\n",
       "      <td>48</td>\n",
       "    </tr>\n",
       "    <tr>\n",
       "      <th>H</th>\n",
       "      <td>73</td>\n",
       "    </tr>\n",
       "    <tr>\n",
       "      <th>I</th>\n",
       "      <td>46</td>\n",
       "    </tr>\n",
       "    <tr>\n",
       "      <th>J</th>\n",
       "      <td>45</td>\n",
       "    </tr>\n",
       "  </tbody>\n",
       "</table>\n",
       "</div>"
      ],
      "text/plain": [
       "    点数\n",
       "生徒    \n",
       "A   53\n",
       "B   54\n",
       "C   48\n",
       "D   50\n",
       "E   28\n",
       "F   58\n",
       "G   48\n",
       "H   73\n",
       "I   46\n",
       "J   45"
      ]
     },
     "execution_count": 3,
     "metadata": {},
     "output_type": "execute_result"
    }
   ],
   "source": [
    "#それぞれのデータに名前を付ける\n",
    "scores_df = pd.DataFrame({'点数':scores},\n",
    "                         index=pd.Index(['A', 'B', 'C', 'D', 'E',\n",
    "                                         'F', 'G', 'H', 'I', 'J'],\n",
    "                                        name='生徒'))\n",
    "scores_df"
   ]
  },
  {
   "cell_type": "code",
   "execution_count": 4,
   "id": "98e1aae3-7635-47ad-9a79-814515a94d93",
   "metadata": {},
   "outputs": [
    {
     "data": {
      "text/plain": [
       "array([ 0.25,  0.35, -0.21, -0.03, -2.08,  0.72, -0.21,  2.12, -0.4 ,\n",
       "       -0.49])"
      ]
     },
     "execution_count": 4,
     "metadata": {},
     "output_type": "execute_result"
    }
   ],
   "source": [
    "z1 = (scores - np.mean(scores)) / np.std(scores)\n",
    "z2 = np.round(z1, decimals=2)\n",
    "z2"
   ]
  },
  {
   "cell_type": "code",
   "execution_count": 5,
   "id": "adbdf8e6-4b13-4135-9a8c-0a51eef73ced",
   "metadata": {},
   "outputs": [
    {
     "data": {
      "text/html": [
       "<div>\n",
       "<style scoped>\n",
       "    .dataframe tbody tr th:only-of-type {\n",
       "        vertical-align: middle;\n",
       "    }\n",
       "\n",
       "    .dataframe tbody tr th {\n",
       "        vertical-align: top;\n",
       "    }\n",
       "\n",
       "    .dataframe thead th {\n",
       "        text-align: right;\n",
       "    }\n",
       "</style>\n",
       "<table border=\"1\" class=\"dataframe\">\n",
       "  <thead>\n",
       "    <tr style=\"text-align: right;\">\n",
       "      <th></th>\n",
       "      <th>点数</th>\n",
       "      <th>標準値</th>\n",
       "    </tr>\n",
       "    <tr>\n",
       "      <th>生徒</th>\n",
       "      <th></th>\n",
       "      <th></th>\n",
       "    </tr>\n",
       "  </thead>\n",
       "  <tbody>\n",
       "    <tr>\n",
       "      <th>A</th>\n",
       "      <td>53</td>\n",
       "      <td>0.25</td>\n",
       "    </tr>\n",
       "    <tr>\n",
       "      <th>B</th>\n",
       "      <td>54</td>\n",
       "      <td>0.35</td>\n",
       "    </tr>\n",
       "    <tr>\n",
       "      <th>C</th>\n",
       "      <td>48</td>\n",
       "      <td>-0.21</td>\n",
       "    </tr>\n",
       "    <tr>\n",
       "      <th>D</th>\n",
       "      <td>50</td>\n",
       "      <td>-0.03</td>\n",
       "    </tr>\n",
       "    <tr>\n",
       "      <th>E</th>\n",
       "      <td>28</td>\n",
       "      <td>-2.08</td>\n",
       "    </tr>\n",
       "    <tr>\n",
       "      <th>F</th>\n",
       "      <td>58</td>\n",
       "      <td>0.72</td>\n",
       "    </tr>\n",
       "    <tr>\n",
       "      <th>G</th>\n",
       "      <td>48</td>\n",
       "      <td>-0.21</td>\n",
       "    </tr>\n",
       "    <tr>\n",
       "      <th>H</th>\n",
       "      <td>73</td>\n",
       "      <td>2.12</td>\n",
       "    </tr>\n",
       "    <tr>\n",
       "      <th>I</th>\n",
       "      <td>46</td>\n",
       "      <td>-0.40</td>\n",
       "    </tr>\n",
       "    <tr>\n",
       "      <th>J</th>\n",
       "      <td>45</td>\n",
       "      <td>-0.49</td>\n",
       "    </tr>\n",
       "  </tbody>\n",
       "</table>\n",
       "</div>"
      ],
      "text/plain": [
       "    点数   標準値\n",
       "生徒          \n",
       "A   53  0.25\n",
       "B   54  0.35\n",
       "C   48 -0.21\n",
       "D   50 -0.03\n",
       "E   28 -2.08\n",
       "F   58  0.72\n",
       "G   48 -0.21\n",
       "H   73  2.12\n",
       "I   46 -0.40\n",
       "J   45 -0.49"
      ]
     },
     "execution_count": 5,
     "metadata": {},
     "output_type": "execute_result"
    }
   ],
   "source": [
    "scores_df['標準値'] = z2\n",
    "scores_df"
   ]
  },
  {
   "cell_type": "markdown",
   "id": "234a242b-dfce-4e19-adb0-4f032cc04354",
   "metadata": {},
   "source": [
    "***"
   ]
  },
  {
   "cell_type": "markdown",
   "id": "a48710de-a5ed-465e-b1cc-94c8a3d3e479",
   "metadata": {},
   "source": [
    "### ➁偏差値\n",
    "次に偏差値を求める. 定義に従って10人のテストの点数の偏差値を求めてみる. "
   ]
  },
  {
   "cell_type": "code",
   "execution_count": 6,
   "id": "aeff5843-7fbe-4a07-bc23-31db443ff02c",
   "metadata": {},
   "outputs": [
    {
     "data": {
      "text/plain": [
       "array([52.52, 53.45, 47.86, 49.72, 29.21, 57.18, 47.86, 71.17, 45.99,\n",
       "       45.06])"
      ]
     },
     "execution_count": 6,
     "metadata": {},
     "output_type": "execute_result"
    }
   ],
   "source": [
    "z3 = 50 + 10 * (scores - np.mean(scores)) / np.std(scores)\n",
    "z4 = np.round(z3, decimals=2)\n",
    "z4"
   ]
  },
  {
   "cell_type": "code",
   "execution_count": 7,
   "id": "de852a5e-ce93-46bc-a5df-80d53ac2de4f",
   "metadata": {},
   "outputs": [
    {
     "data": {
      "text/html": [
       "<div>\n",
       "<style scoped>\n",
       "    .dataframe tbody tr th:only-of-type {\n",
       "        vertical-align: middle;\n",
       "    }\n",
       "\n",
       "    .dataframe tbody tr th {\n",
       "        vertical-align: top;\n",
       "    }\n",
       "\n",
       "    .dataframe thead th {\n",
       "        text-align: right;\n",
       "    }\n",
       "</style>\n",
       "<table border=\"1\" class=\"dataframe\">\n",
       "  <thead>\n",
       "    <tr style=\"text-align: right;\">\n",
       "      <th></th>\n",
       "      <th>点数</th>\n",
       "      <th>標準値</th>\n",
       "      <th>偏差値</th>\n",
       "    </tr>\n",
       "    <tr>\n",
       "      <th>生徒</th>\n",
       "      <th></th>\n",
       "      <th></th>\n",
       "      <th></th>\n",
       "    </tr>\n",
       "  </thead>\n",
       "  <tbody>\n",
       "    <tr>\n",
       "      <th>A</th>\n",
       "      <td>53</td>\n",
       "      <td>0.25</td>\n",
       "      <td>52.52</td>\n",
       "    </tr>\n",
       "    <tr>\n",
       "      <th>B</th>\n",
       "      <td>54</td>\n",
       "      <td>0.35</td>\n",
       "      <td>53.45</td>\n",
       "    </tr>\n",
       "    <tr>\n",
       "      <th>C</th>\n",
       "      <td>48</td>\n",
       "      <td>-0.21</td>\n",
       "      <td>47.86</td>\n",
       "    </tr>\n",
       "    <tr>\n",
       "      <th>D</th>\n",
       "      <td>50</td>\n",
       "      <td>-0.03</td>\n",
       "      <td>49.72</td>\n",
       "    </tr>\n",
       "    <tr>\n",
       "      <th>E</th>\n",
       "      <td>28</td>\n",
       "      <td>-2.08</td>\n",
       "      <td>29.21</td>\n",
       "    </tr>\n",
       "    <tr>\n",
       "      <th>F</th>\n",
       "      <td>58</td>\n",
       "      <td>0.72</td>\n",
       "      <td>57.18</td>\n",
       "    </tr>\n",
       "    <tr>\n",
       "      <th>G</th>\n",
       "      <td>48</td>\n",
       "      <td>-0.21</td>\n",
       "      <td>47.86</td>\n",
       "    </tr>\n",
       "    <tr>\n",
       "      <th>H</th>\n",
       "      <td>73</td>\n",
       "      <td>2.12</td>\n",
       "      <td>71.17</td>\n",
       "    </tr>\n",
       "    <tr>\n",
       "      <th>I</th>\n",
       "      <td>46</td>\n",
       "      <td>-0.40</td>\n",
       "      <td>45.99</td>\n",
       "    </tr>\n",
       "    <tr>\n",
       "      <th>J</th>\n",
       "      <td>45</td>\n",
       "      <td>-0.49</td>\n",
       "      <td>45.06</td>\n",
       "    </tr>\n",
       "  </tbody>\n",
       "</table>\n",
       "</div>"
      ],
      "text/plain": [
       "    点数   標準値    偏差値\n",
       "生徒                 \n",
       "A   53  0.25  52.52\n",
       "B   54  0.35  53.45\n",
       "C   48 -0.21  47.86\n",
       "D   50 -0.03  49.72\n",
       "E   28 -2.08  29.21\n",
       "F   58  0.72  57.18\n",
       "G   48 -0.21  47.86\n",
       "H   73  2.12  71.17\n",
       "I   46 -0.40  45.99\n",
       "J   45 -0.49  45.06"
      ]
     },
     "execution_count": 7,
     "metadata": {},
     "output_type": "execute_result"
    }
   ],
   "source": [
    "scores_df['偏差値'] = z4\n",
    "scores_df"
   ]
  },
  {
   "cell_type": "markdown",
   "id": "69f85f6e-14d7-4951-8aa5-86d468be96a8",
   "metadata": {},
   "source": [
    "***"
   ]
  },
  {
   "cell_type": "markdown",
   "id": "de99c259-9997-4a32-aead-f7f940049ea3",
   "metadata": {},
   "source": [
    "### まとめ\n",
    "このページではデータの正規化を扱った. データの正規化の代表的な手段である標準化、偏差値の定義を説明し、実際にデータセットを使ってそれらを求めた. データを標準化することで各データが全体に対してどこ位置するかが分かりやすくなる. データの正規化はデータのスケールを合わせる、スケーリングとして使われている."
   ]
  },
  {
   "cell_type": "markdown",
   "id": "37dc21a4-7b90-4653-a899-77fd26e0a1c9",
   "metadata": {},
   "source": [
    "***"
   ]
  },
  {
   "cell_type": "markdown",
   "id": "be7000dc-8cae-4ad0-9651-ce42feb19fb4",
   "metadata": {},
   "source": [
    "### おまけ\n",
    "ところで、このページでは正規化に関する説明を行ってないが正確に言えば正規化（Normalization）と標準化(z-score normalization)は違うものである. 正規化はMin-Max法とも呼ばれ、データの最小値からの偏差をデータ範囲で割る操作を行う. 実測値を$x_{i}$、最小値を$min{(x)}$、最大値を$max{(x)}$、$x_{i}$を正規化したものを$x'_{i}$とすると\n",
    "\\begin{equation}\n",
    "\\ x'_{i} = \\frac{x_{i} - \\min{(x)}}{\\max{(x)}-\\min{(x)}}\n",
    "\\end{equation}\n",
    "で表せる. データを正規化すると、データ全体の期待値は0、分散は1になる. なぜこのページで正規化を使わなかったかというと、正規化はデータの最小値と最大値が明らかでないと使えないからである. また、正規化は最大値と最小値を使って計算する手法であるため、外れ値に弱い. つまり、実測値の最大値や最小値がすぐに分からない、そして外れ値の存在が想定できる場合には標準化を使うほうがよい. 正規化と標準化が違うものであることは注意してほしい."
   ]
  }
 ],
 "metadata": {
  "kernelspec": {
   "display_name": "Python 3",
   "language": "python",
   "name": "python3"
  },
  "language_info": {
   "codemirror_mode": {
    "name": "ipython",
    "version": 3
   },
   "file_extension": ".py",
   "mimetype": "text/x-python",
   "name": "python",
   "nbconvert_exporter": "python",
   "pygments_lexer": "ipython3",
   "version": "3.8.8"
  }
 },
 "nbformat": 4,
 "nbformat_minor": 5
}
