{
 "cells": [
  {
   "cell_type": "markdown",
   "id": "1ad0a52e-9f2a-46a0-89a5-1e9ba8d3689c",
   "metadata": {},
   "source": [
    "<!--### 連続型確率変数\n",
    "連続型確率変数はとりうる値が連続的な確率変数のことをいう. 「身長」のように168.419819615…cmと小数点以下の値をどこまでも細かくできるのが連続型確率変数である.\n",
    "# グラフの線の種類\n",
    "linestyles = ['-', '--', ':']a\n",
    "-->\n",
    "<!--\n",
    "-->"
   ]
  },
  {
   "cell_type": "markdown",
   "id": "a6cca3fa-073f-48b4-9ab7-c43650ab698e",
   "metadata": {},
   "source": [
    "### 1次元の離散型確率変数とは"
   ]
  },
  {
   "cell_type": "markdown",
   "id": "e95d2da9-4cee-48bb-b546-0503508bcb51",
   "metadata": {},
   "source": [
    "### 離散型確率変数\n",
    "離散型確率変数はとりうる値が離散的な確率変数のことである. 例えば、「サイコロの目」のように1,2,3…ととびとびの値をとる確率変数がこれにあたる."
   ]
  },
  {
   "cell_type": "markdown",
   "id": "fb914a37-82eb-4837-b085-74986b43b7dc",
   "metadata": {},
   "source": [
    "### 確率質量関数\n",
    "離散型確率変数の場合は、確率変数$X$の取りうる値の集合を｛$x_{1}$,$x_{2}$,$x_{3}$, …,｝として、確率変数$X$が$x_{k}$という値をとる確率を<br> $$　P(X = x_{k}) = p_{k}(k = 1,2,…) $$と定義できる. このとき確率はとりうる値$x_{i}$を因数にとる関数とみることもできるため、<br> $$　f(x) = P(X = x_{i}) $$となる関数$f(x)$と考える事ができ、それを確率質量関数、あるいは単純に確率関数と呼ぶ. とりうる値とその確率の具体的な対応が確率分布と呼ばれるもので、確率変数の確率分布が決まることで、その確率変数の振る舞いが定まることになる. "
   ]
  },
  {
   "cell_type": "markdown",
   "id": "48562d0f-8947-483d-a5f9-cb9ee1ad69a8",
   "metadata": {
    "tags": []
   },
   "source": [
    "***"
   ]
  },
  {
   "cell_type": "markdown",
   "id": "d71f6b52-63bb-4cab-a4e7-c43a1e38fbdb",
   "metadata": {},
   "source": [
    "<!--### 連続型確率変数\n",
    "連続型確率変数はとりうる値が連続的な確率変数のことをいう. 「身長」のように168.419819615…cmと小数点以下の値をどこまでも細かくできるのが連続型確率変数である.\n",
    "# グラフの線の種類\n",
    "linestyles = ['-', '--', ':']\n",
    "-->\n",
    "<!--\n",
    "-->"
   ]
  },
  {
   "cell_type": "markdown",
   "id": "61bad66a-f380-4ea6-b80b-294deb358297",
   "metadata": {},
   "source": [
    "### ベルヌーイ分布\n",
    "ベルヌーイ分布は基本的な離散型確率分布であり、取りうる値が0と1しかない確率分布である. ベルヌーイ分布に従う確率変数の試行の事をベルヌーイ分布という. 1が出ることを成功、0が出ることを失敗という. この試行では取りうる値が2つしかないため、どちらかの確率が定まればもう一方も自動的に定まる. つまり、ベルヌーイ分布において1が出る確率を$p$とすると、0が出る確率は$1-p$である. $x$をベルヌーイ分布に従う確率変数とすると\n",
    "\\begin{equation}\n",
    "f(x)＝\n",
    "\\begin{cases}\n",
    "  p^{x}(1-p)^{1-x} & (x \\in \\{0,1\\})\\\\\\\n",
    "  0 & (その他)\n",
    "\\end{cases}\n",
    "\\end{equation}\n",
    "と表せる. とりうる値が2通りしかないものは全てベルヌーイ分布で考えることができる. ベルヌーイ分布における期待値$E(X)$と分散$V(X)$は$　E(X) = p、V(X)=p(1-p) $と表せる."
   ]
  },
  {
   "cell_type": "markdown",
   "id": "7ae19e73-ac38-45d9-b108-b710d6eef843",
   "metadata": {},
   "source": [
    "***"
   ]
  },
  {
   "cell_type": "markdown",
   "id": "f5bf642c-1eb7-42be-b68d-0c4ab3c28519",
   "metadata": {},
   "source": [
    "まず、ベルヌーイ分布の例として、コインを投げることを考える. コインは、表と裏の出る確率が等しいものを投げるものとする. とりうる値は表を1、裏を0とする. また、結果を図示するため、いくつかの関数を決めるとすると、$E(X)$は期待値の関数で、$V(X)$は分散の関数である. check_probは確率変数を引数にとり、その確率変数の期待値と分散を返す関数である. plot_probは確率関数と期待値を図示する関数である. ここで、それらを用いて結果を図で表してみると"
   ]
  },
  {
   "cell_type": "code",
   "execution_count": 1,
   "id": "861b6a73-f852-4d55-a302-55e890e09684",
   "metadata": {},
   "outputs": [
    {
     "data": {
      "text/plain": [
       "'%.2f'"
      ]
     },
     "execution_count": 1,
     "metadata": {},
     "output_type": "execute_result"
    }
   ],
   "source": [
    "import numpy as np\n",
    "import matplotlib.pyplot as plt\n",
    "from scipy import stats\n",
    "%precision 2"
   ]
  },
  {
   "cell_type": "markdown",
   "id": "313576f7-20a9-454c-bd0b-8f30cf29b9ec",
   "metadata": {},
   "source": [
    "<!-- \n",
    "確率質量関数（probability mass function, PMF\n",
    "数値をg(x_k)、その値の確率をf(x_k)\n",
    "g(x_k) * f(x_k)は1が出る確率が0.1のとき、1 * 0.1 みたいなことを行う\n",
    "ちなみにこの問題ではx_kを変数として使っているが全然x_kである必要性はなく、x_iとかでも動く\n",
    "g=lambda x: x　これはg()をg(x)とする定義\n",
    "なぜ分散の時とかにgの関数を使わなければいけないのかは全く分からない、無名関数だからこそ、定数と違ってなくても許されるのかも？\n",
    "\n",
    "Xはその値が出る確率\n",
    "x_setはその値が出る確率分布、例えばベルヌーイ分布ではx_set=[0, 1]\n",
    "x_kは0～setのところまで計算を連続して行う（多分）\n",
    "probは確率のこと、prob = np.array([f(x_k) for x_k in x_set])ではそれぞれの”数字”発生における確率\n",
    "np.allは条件確認を行う関数、一つでも条件を満たせなければ次に指定されたプログラムを実行する\n",
    "assert np.all(prob >= 0), 'error'はnp.allでprobが >= 0を満たしていなければ'error'を出力する\n",
    "---Pythonのassert文は、基本的には、条件をテストするデバッグ支援ツールです。アサーションの条件がTrueの場合は何も起きず、プログラムは何事もなく動作し続けます。しかし、アサーションの条件がFalseと評価された場合はAssertionError例外が送出され、必要に応じてエラーメッセージが生成されます。---Pythonで本当に役立つ機能「アサーション」の使い方を解説！『Pythonトリック』から\n",
    "np.round(np.sum(prob), 6)　は小数点6ケタで偶数丸めをしている\n",
    "print(f'期待値:{E(X):.4}') のf''はこれで文字列（期待値）の部分も同時に出力することができる、必要である\n",
    "\n",
    "-->\n",
    "<!-- \n",
    "-->"
   ]
  },
  {
   "cell_type": "code",
   "execution_count": 2,
   "id": "4f7ebe29-ced1-414c-b3ac-591e46ba658f",
   "metadata": {},
   "outputs": [],
   "source": [
    "#期待値を求める関数\n",
    "def E(X, g=lambda x: x):\n",
    "    x_set, f = X\n",
    "    return np.sum([g(x_k) * f(x_k) for x_k in x_set])"
   ]
  },
  {
   "cell_type": "code",
   "execution_count": 3,
   "id": "3c4de30b-9d57-404d-b82c-4dd6a9db0831",
   "metadata": {},
   "outputs": [],
   "source": [
    "#分散を求める関数\n",
    "def V(X, g=lambda x: x):\n",
    "    x_set, f = X\n",
    "    mean = E(X, g)\n",
    "    return np.sum([(g(x_k)-mean)**2 * f(x_k) for x_k in x_set])"
   ]
  },
  {
   "cell_type": "code",
   "execution_count": 4,
   "id": "00d1f047-1393-400f-b1d1-a6eb8fe76b77",
   "metadata": {},
   "outputs": [],
   "source": [
    "#上で作成した関数を利用して結果を表示する関数\n",
    "def check_prob(X):\n",
    "    x_set, f = X\n",
    "    prob = np.array([f(x_k) for x_k in x_set])\n",
    "    assert np.all(prob >= 0), '負の確率が入っています'\n",
    "    prob_sum = np.round(np.sum(prob), 6)\n",
    "    assert prob_sum == 1, f'確率の総和が:{prob_sum}になっています'\n",
    "    print(f'期待値:{E(X):.2}')\n",
    "    print(f'分散:{(V(X)):.2}')"
   ]
  },
  {
   "cell_type": "code",
   "execution_count": 5,
   "id": "a22893fa-dcb5-409a-a30a-1e3fc7b809b3",
   "metadata": {},
   "outputs": [],
   "source": [
    "#結果を図示する関数\n",
    "def plot_prob(X):\n",
    "    x_set, f = X\n",
    "    prob = np.array([f(x_k) for x_k in x_set])\n",
    "    fig = plt.figure(figsize=(10, 6))\n",
    "    ax = fig.add_subplot(111)\n",
    "    ax.bar(x_set, prob, label='確率')\n",
    "    ax.vlines(E(X), 0, 1, color=\"black\", label='期待値')\n",
    "    ax.set_xticks(np.append(x_set, E(X)))\n",
    "    ax.legend(prop = {\"family\" : \"MS Gothic\"})\n",
    "    plt.show()"
   ]
  },
  {
   "cell_type": "code",
   "execution_count": 6,
   "id": "e7ea94d2-1c4b-4498-8ca1-9b48712876f8",
   "metadata": {},
   "outputs": [],
   "source": [
    "#ベルヌーイ分布\n",
    "def Bern(p):\n",
    "    x_set = np.array([0, 1])\n",
    "    def f(x):\n",
    "        if x in x_set:\n",
    "            return p ** x * (1-p) ** (1-x)\n",
    "        else:\n",
    "            return 0\n",
    "    return x_set, f"
   ]
  },
  {
   "cell_type": "code",
   "execution_count": 7,
   "id": "5c8c7cfe-ca0a-4b9f-96b8-1a24e68994fc",
   "metadata": {},
   "outputs": [],
   "source": [
    "p = 0.5\n",
    "X = Bern(p)"
   ]
  },
  {
   "cell_type": "code",
   "execution_count": 8,
   "id": "b2a1538a-de77-4150-a97f-9d80d3da9793",
   "metadata": {},
   "outputs": [
    {
     "name": "stdout",
     "output_type": "stream",
     "text": [
      "期待値:0.5\n",
      "分散:0.25\n"
     ]
    },
    {
     "data": {
      "image/png": "[encoded data removed]",
      "text/plain": [
       "<Figure size 720x432 with 1 Axes>"
      ]
     },
     "metadata": {
      "needs_background": "light"
     },
     "output_type": "display_data"
    }
   ],
   "source": [
    "check_prob(X)\n",
    "plot_prob(X)"
   ]
  },
  {
   "cell_type": "markdown",
   "id": "68eb2f68-c97e-4578-85c4-c87401c2f07a",
   "metadata": {},
   "source": [
    "<!--# グラフの線の種類\n",
    "linestyles = ['-', '--', ':']\n",
    "\n",
    "def E(X, g=lambda x: x):\n",
    "    x_set, f = X\n",
    "    return np.sum([g(x_k) * f(x_k) for x_k in x_set])\n",
    "\n",
    "def V(X, g=lambda x: x):\n",
    "    x_set, f = X\n",
    "    mean = E(X, g)\n",
    "    return np.sum([(g(x_k)-mean)**2 * f(x_k) for x_k in x_set])\n",
    "\n",
    "def check_prob(X):\n",
    "    x_set, f = X\n",
    "    prob = np.array([f(x_k) for x_k in x_set])\n",
    "    assert np.all(prob >= 0), '負の確率があります'\n",
    "    prob_sum = np.round(np.sum(prob), 6)\n",
    "    assert prob_sum == 1, f'確率の和が{prob_sum}になりました'\n",
    "    print(f'期待値は{E(X):.4}')\n",
    "    print(f'分散は{(V(X)):.4}')\n",
    "\n",
    "def plot_prob(X):\n",
    "    x_set, f = X\n",
    "    prob = np.array([f(x_k) for x_k in x_set])\n",
    "    \n",
    "    fig = plt.figure(figsize=(10, 6))\n",
    "    ax = fig.add_subplot(111)\n",
    "    ax.bar(x_set, prob, label='prob')\n",
    "    ax.vlines(E(X), 0, 1, label='mean')\n",
    "    ax.set_xticks(np.append(x_set, E(X)))\n",
    "    ax.set_ylim(0, prob.max()*1.2)\n",
    "    ax.legend()\n",
    "    \n",
    "    plt.show()\n",
    "\n",
    "def Bern(p):\n",
    "    x_set = np.array([0, 1])\n",
    "    def f(x):\n",
    "        if x in x_set:\n",
    "            return p ** x * (1-p) ** (1-x)\n",
    "        else:\n",
    "            return 0\n",
    "    return x_set, f\n",
    "p = 0.3\n",
    "X = Bern(p)\n",
    "check_prob(X)\n",
    "\n",
    "plot_prob(X)\n",
    "-->"
   ]
  },
  {
   "cell_type": "markdown",
   "id": "e1d25591-e45e-468d-9f65-ead9e44d4a94",
   "metadata": {},
   "source": [
    "***"
   ]
  },
  {
   "cell_type": "markdown",
   "id": "9c55557b-58d7-496c-849e-cabe1ee337e9",
   "metadata": {},
   "source": [
    "### 二項分布"
   ]
  },
  {
   "cell_type": "markdown",
   "id": "797aa728-c828-4f60-bcfa-3bad45322962",
   "metadata": {},
   "source": [
    "二項分布は1が出る確率が$p$のベルヌーイ試行を$n$回行った時の成功回数$x$が従う分布である. 成功する回数がとりうる値は{0, 1, …, n}である. ここではパラメタが$n, p $の二項分布を$B(n, p)$とする. $n$回の試行のうち成功する回数を$x$とするとその確率関数は\n",
    "\\begin{equation}\n",
    "f(x)＝\n",
    "\\begin{cases}\n",
    "  _n C_x p^{x}(1-p)^{n-x} & (x \\in \\{0,1,…,n\\})\\\\\\\n",
    "  0 & (その他)\n",
    "\\end{cases}\n",
    "\\end{equation}\n",
    "と表せる."
   ]
  },
  {
   "cell_type": "markdown",
   "id": "e90ea360-8fc9-4d07-9685-9acb183c560b",
   "metadata": {},
   "source": [
    "そして、二項分布の期待値と分散$はE(x)=np、V(x)=np(1-p)$と表せる."
   ]
  },
  {
   "cell_type": "markdown",
   "id": "a91c3ef0-b681-4841-84d3-e3457b1bda3a",
   "metadata": {},
   "source": [
    "また、二項分布の具体例として、10回コインを投げて3回表が出る確率を考えると、その確率は$P(x=3)= _{10}C_{3} (1/2)^{3}(1-{1/2})^{(10-3)}= 15/128$となる、さらにこれを図示してみると"
   ]
  },
  {
   "cell_type": "markdown",
   "id": "c30095b0-5a8b-4edb-8e2a-6b47c9224338",
   "metadata": {},
   "source": [
    "<!-- \n",
    "x in x_setはx_setにxが入っているかどうかを判断する、入っていればtrue\n",
    "\n",
    "SciPyには順列の総数を返す関数scipy.special.comb()が用意されている。print(comb(4, 2))# 6.0　→4C2\n",
    "\n",
    "numpy.arange()はPython組み込みのrange()のndarray版。range()、Pythonで連番を生成してfor文で使ったりそのリストを取得するにはrange()を使う。引数で範囲やステップを指定でき、0からではなく1からの連番や、飛ばし飛ばし、逆順（降順）の連番も生成可能。print(list(range(10)))# [0, 1, 2, 3, 4, 5, 6, 7, 8, 9]　→(n+1)は0~nまで\n",
    "-->"
   ]
  },
  {
   "cell_type": "code",
   "execution_count": 9,
   "id": "883a402e-02fa-4815-b72e-e30d4bccd702",
   "metadata": {},
   "outputs": [],
   "source": [
    "from scipy.special import comb\n",
    "\n",
    "def Bin(n, p):\n",
    "    x_set = np.arange(n+1)\n",
    "    def f(x):\n",
    "        if x in x_set:\n",
    "            return comb(n, x) * p**x * (1-p)**(n-x)\n",
    "        else:\n",
    "            return 0\n",
    "    return x_set, f"
   ]
  },
  {
   "cell_type": "code",
   "execution_count": 10,
   "id": "77d4876b-2671-4f38-ad98-436e8f6af314",
   "metadata": {},
   "outputs": [],
   "source": [
    "n = 10\n",
    "p = 0.3\n",
    "X = Bin(n, p)"
   ]
  },
  {
   "cell_type": "code",
   "execution_count": 11,
   "id": "767c181a-2745-40d3-a47e-41421d3cf436",
   "metadata": {},
   "outputs": [
    {
     "name": "stdout",
     "output_type": "stream",
     "text": [
      "期待値:3.0\n",
      "分散:2.1\n"
     ]
    },
    {
     "data": {
      "image/png": "[encoded data removed]",
      "text/plain": [
       "<Figure size 720x432 with 1 Axes>"
      ]
     },
     "metadata": {
      "needs_background": "light"
     },
     "output_type": "display_data"
    }
   ],
   "source": [
    "check_prob(X)\n",
    "plot_prob(X)"
   ]
  },
  {
   "cell_type": "markdown",
   "id": "9c58dcee-ad41-4ced-b36f-b083db77f3dc",
   "metadata": {},
   "source": [
    "***"
   ]
  },
  {
   "cell_type": "markdown",
   "id": "cdd916c6-4969-44b9-8233-c97c1602d05c",
   "metadata": {},
   "source": [
    "### 幾何分布"
   ]
  },
  {
   "cell_type": "markdown",
   "id": "f58d023e-7bc8-4dd9-a266-f0355ad87f7a",
   "metadata": {},
   "source": [
    "幾何分布はベルヌーイ試行を繰り返して、初めて成功するまでの試行回数が従う確率分布である. 幾何分布のパラメタはベルヌーイ試行の成功確率$p$である. パラメタ$p$の幾何分布を$Ge(p)$とすると\n",
    "\\begin{equation}\n",
    "f(x)＝\n",
    "\\begin{cases}\n",
    "(1-p)^{(x-1)}p & (x \\in \\{1,2,…,n\\})\\\\\\\n",
    "  0 & (その他)\n",
    "\\end{cases}\n",
    "\\end{equation}と表せる."
   ]
  },
  {
   "cell_type": "markdown",
   "id": "93733451-531d-41c2-ae9b-c8381ee56fb4",
   "metadata": {},
   "source": [
    "そして、幾何分布の期待値と分散は$E(x)=1/p、V(x)=(1-p)/p^2$と表せる."
   ]
  },
  {
   "cell_type": "markdown",
   "id": "c6a34131-44d0-412d-8933-433c6a9fb15d",
   "metadata": {},
   "source": [
    "また、幾何分布における具体例として、コインの表が出るまで投げる回数を考えると$p=1/2$であるから$Ge(1/2)$に従う. 5回目で初めて表が出る確率は$P(x=5)=(1-1/2)^{4}×1/2=1/32$と求められる. さらに、結果を図示してみると"
   ]
  },
  {
   "cell_type": "code",
   "execution_count": 12,
   "id": "cfdccf7a-4bf3-4760-801d-6c0c1b237f80",
   "metadata": {},
   "outputs": [],
   "source": [
    "#実装上の都合で幾何分布の取りうる値を1~29としている.\n",
    "def Ge(p):\n",
    "    x_set = np.arange(1, 30)\n",
    "    def f(x):\n",
    "        if x in x_set:\n",
    "            return p * (1-p) ** (x-1)\n",
    "        else:\n",
    "            return 0\n",
    "    return x_set, f"
   ]
  },
  {
   "cell_type": "code",
   "execution_count": 13,
   "id": "9b339630-b513-48c9-8712-73f15fb0ce7d",
   "metadata": {},
   "outputs": [],
   "source": [
    "p = 0.5\n",
    "X = Ge(p)"
   ]
  },
  {
   "cell_type": "code",
   "execution_count": 14,
   "id": "564e07cf-8ff9-48a1-bb1e-e611befc3410",
   "metadata": {},
   "outputs": [
    {
     "name": "stdout",
     "output_type": "stream",
     "text": [
      "期待値:2.0\n",
      "分散:2.0\n"
     ]
    },
    {
     "data": {
      "image/png": "[encoded data removed]",
      "text/plain": [
       "<Figure size 720x432 with 1 Axes>"
      ]
     },
     "metadata": {
      "needs_background": "light"
     },
     "output_type": "display_data"
    }
   ],
   "source": [
    "check_prob(X)\n",
    "plot_prob(X)"
   ]
  },
  {
   "cell_type": "markdown",
   "id": "adc02383-42d2-4e62-a738-69dc3659eb75",
   "metadata": {},
   "source": [
    "***"
   ]
  },
  {
   "cell_type": "markdown",
   "id": "94ab1ae4-1a03-4de5-9670-012db85a6305",
   "metadata": {},
   "source": [
    "### ポアソン分布"
   ]
  },
  {
   "cell_type": "markdown",
   "id": "92839828-9f1b-41cc-a1c5-589a5c338de0",
   "metadata": {},
   "source": [
    "ポアソン分布は単位時間に平均$λ$件起こる現象が、単位時間に$x$件起きる件数に従う確率の分布である. この確率分布がとりうる値は{0, 1, 2, ...}となる. またポアソン分布のパラメタを$λ$とすると、ポアソン分布は$Poi(λ)$と表せる. ポアソン分布の確率分布は\n",
    "\\begin{equation}\n",
    "f(x)＝\n",
    "\\begin{cases}\n",
    "\\frac{λ^{x}}{x!} \\cdot e^{-λ} & (x \\in \\{0,1,2,…\\})\\\\\\\n",
    "  0 & (その他)\n",
    "\\end{cases}\n",
    "\\end{equation}と表せる. "
   ]
  },
  {
   "cell_type": "markdown",
   "id": "88de867a-71fd-460f-a41e-aef618776f53",
   "metadata": {},
   "source": [
    "そして、ポアソン分布の期待値と分散は$E(x)=λ、V(x)=λ$"
   ]
  },
  {
   "cell_type": "markdown",
   "id": "805ad227-f7e5-437a-8d53-eaaf8c2b0b01",
   "metadata": {},
   "source": [
    "また、ポアソン分布の具体例として、一時間当たり平均2件のアクセスがあるサイトへの1時間当たりのアクセス件数が０件の場合を考えると、これは$Poi(2)$に従うから$P(x=0)=\\frac{2^{0}}{0!} \\cdot e^{-2}\\fallingdotseq 0.14$と求められる. さらに、結果を図示してみると"
   ]
  },
  {
   "cell_type": "code",
   "execution_count": 15,
   "id": "9a683e0e-7665-45b6-b3a4-14be0734e845",
   "metadata": {},
   "outputs": [],
   "source": [
    "from scipy.special import factorial\n",
    "#実装上の都合で幾何分布の取りうる値を1~29としている.\n",
    "def Poi(lam):\n",
    "    x_set = np.arange(30)\n",
    "    def f(x):\n",
    "        if x in x_set:\n",
    "            return np.power(lam, x) / factorial(x) * np.exp(-lam)\n",
    "        else:\n",
    "            return 0\n",
    "    return x_set, f"
   ]
  },
  {
   "cell_type": "code",
   "execution_count": 16,
   "id": "2d49b074-3f36-4b9a-92f7-5aa4cf53bc62",
   "metadata": {},
   "outputs": [],
   "source": [
    "lam = 2\n",
    "X = Poi(lam)"
   ]
  },
  {
   "cell_type": "code",
   "execution_count": 17,
   "id": "103ae969-2bb0-4fae-8680-0134a21de290",
   "metadata": {},
   "outputs": [
    {
     "name": "stdout",
     "output_type": "stream",
     "text": [
      "期待値:2.0\n",
      "分散:2.0\n"
     ]
    },
    {
     "data": {
      "image/png": "[encoded data removed]",
      "text/plain": [
       "<Figure size 720x432 with 1 Axes>"
      ]
     },
     "metadata": {
      "needs_background": "light"
     },
     "output_type": "display_data"
    }
   ],
   "source": [
    "check_prob(X)\n",
    "plot_prob(X)"
   ]
  },
  {
   "cell_type": "code",
   "execution_count": null,
   "id": "638c901c-1d27-47df-a0d6-b2c527b10053",
   "metadata": {},
   "outputs": [],
   "source": []
  }
 ],
 "metadata": {
  "kernelspec": {
   "display_name": "Python 3",
   "language": "python",
   "name": "python3"
  },
  "language_info": {
   "codemirror_mode": {
    "name": "ipython",
    "version": 3
   },
   "file_extension": ".py",
   "mimetype": "text/x-python",
   "name": "python",
   "nbconvert_exporter": "python",
   "pygments_lexer": "ipython3",
   "version": "3.8.8"
  }
 },
 "nbformat": 4,
 "nbformat_minor": 5
}
