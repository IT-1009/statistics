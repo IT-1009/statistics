{
 "cells": [
  {
   "cell_type": "markdown",
   "id": "0c6e01f4",
   "metadata": {},
   "source": [
    "# 1-3 標準偏差が持つルール、68–95–99.7則\n",
    "ここでは標準偏差$\\sigma$が持っている68–95–99.7則と呼ばれる性質を学ぶことを目的とする。"
   ]
  },
  {
   "cell_type": "markdown",
   "id": "984e3b8c-07f2-4820-8e12-2618849974f8",
   "metadata": {},
   "source": [
    ">標準偏差には学校の確率の勉強の時には学ばない性質があります。この性質はとても便利で、統計の正確性の基準として使われることもあります。この章ではその便利な性質を理解し、実際に統計を取るときに活用していきましょう。"
   ]
  },
  {
   "cell_type": "markdown",
   "id": "4ae22af1-43ee-4c81-9893-f0cd277a955f",
   "metadata": {},
   "source": [
    "### (Ⅰ)68–95–99.7則とはなにか\n",
    "68–95–99.7則は正規分布に従うグラフであるとき、平均$\\pm\\sigma$に含まれるデータは全体の68％、平均$\\pm2\\sigma$に含まれるデータは全体の95％、平均$\\pm3\\sigma$に含まれるデータは全体の99.7％を占めるという法則である。品質管理などの分野では「3$\\sigma$のルール」と呼ばれることもある。"
   ]
  },
  {
   "cell_type": "markdown",
   "id": "92d9b771",
   "metadata": {},
   "source": [
    "### (Ⅱ)68–95–99.7則の成立確認\n",
    "### ①68則の確認\n",
    "\n",
    "データ量の関係より今回はcsvファイルを使用して、説明を行う。同じワークスペースにdataフォルダを作り、そこにcsvファイルを置いて読み取る。今回は500人の生徒の数学のテストの結果を模したcsvファイルを作成した。\n",
    "初めにcsvファイルの読み込みが出来ているかを確認する。"
   ]
  },
  {
   "cell_type": "code",
   "execution_count": 1,
   "id": "c07a7362",
   "metadata": {},
   "outputs": [],
   "source": [
    "import numpy as np\n",
    "import pandas as pd\n",
    "import random"
   ]
  },
  {
   "cell_type": "code",
   "execution_count": 2,
   "id": "ac529668",
   "metadata": {},
   "outputs": [],
   "source": [
    "#csvファイルの読み込みを行う。\n",
    "df = pd.read_csv('data/suugaku.csv',\n",
    "                 index_col='生徒番号')\n",
    "#１0人分の数学のデータを使う\n",
    "scores = np.array(df['数学'])[:10]"
   ]
  },
  {
   "cell_type": "code",
   "execution_count": 3,
   "id": "26a328a1",
   "metadata": {},
   "outputs": [
    {
     "data": {
      "text/html": [
       "<div>\n",
       "<style scoped>\n",
       "    .dataframe tbody tr th:only-of-type {\n",
       "        vertical-align: middle;\n",
       "    }\n",
       "\n",
       "    .dataframe tbody tr th {\n",
       "        vertical-align: top;\n",
       "    }\n",
       "\n",
       "    .dataframe thead th {\n",
       "        text-align: right;\n",
       "    }\n",
       "</style>\n",
       "<table border=\"1\" class=\"dataframe\">\n",
       "  <thead>\n",
       "    <tr style=\"text-align: right;\">\n",
       "      <th></th>\n",
       "      <th>点数</th>\n",
       "    </tr>\n",
       "    <tr>\n",
       "      <th>生徒</th>\n",
       "      <th></th>\n",
       "    </tr>\n",
       "  </thead>\n",
       "  <tbody>\n",
       "    <tr>\n",
       "      <th>A</th>\n",
       "      <td>53</td>\n",
       "    </tr>\n",
       "    <tr>\n",
       "      <th>B</th>\n",
       "      <td>54</td>\n",
       "    </tr>\n",
       "    <tr>\n",
       "      <th>C</th>\n",
       "      <td>48</td>\n",
       "    </tr>\n",
       "    <tr>\n",
       "      <th>D</th>\n",
       "      <td>50</td>\n",
       "    </tr>\n",
       "    <tr>\n",
       "      <th>E</th>\n",
       "      <td>28</td>\n",
       "    </tr>\n",
       "    <tr>\n",
       "      <th>F</th>\n",
       "      <td>58</td>\n",
       "    </tr>\n",
       "    <tr>\n",
       "      <th>G</th>\n",
       "      <td>48</td>\n",
       "    </tr>\n",
       "    <tr>\n",
       "      <th>H</th>\n",
       "      <td>73</td>\n",
       "    </tr>\n",
       "    <tr>\n",
       "      <th>I</th>\n",
       "      <td>46</td>\n",
       "    </tr>\n",
       "    <tr>\n",
       "      <th>J</th>\n",
       "      <td>45</td>\n",
       "    </tr>\n",
       "  </tbody>\n",
       "</table>\n",
       "</div>"
      ],
      "text/plain": [
       "    点数\n",
       "生徒    \n",
       "A   53\n",
       "B   54\n",
       "C   48\n",
       "D   50\n",
       "E   28\n",
       "F   58\n",
       "G   48\n",
       "H   73\n",
       "I   46\n",
       "J   45"
      ]
     },
     "execution_count": 3,
     "metadata": {},
     "output_type": "execute_result"
    }
   ],
   "source": [
    "#それぞれのデータに名前を付ける\n",
    "scores_df = pd.DataFrame({'点数':scores},\n",
    "                         index=pd.Index(['A', 'B', 'C', 'D', 'E',\n",
    "                                         'F', 'G', 'H', 'I', 'J'],\n",
    "                                        name='生徒'))\n",
    "scores_df"
   ]
  },
  {
   "cell_type": "markdown",
   "id": "3afccdcb",
   "metadata": {},
   "source": [
    "csvファイルが読み込めていることを確認できた。"
   ]
  },
  {
   "cell_type": "markdown",
   "id": "e39c03b6",
   "metadata": {},
   "source": [
    "次にデータが正規分布に従っているかを確認する。何故なら68則が成り立つためにはデータが正規分布に準じている必要があるからである。\n",
    "正規分布に準じているかどうかはヒストグラムを見ることで判断が可能であるため、ヒストグラムを作成し、データのばらつきを見てみる。"
   ]
  },
  {
   "cell_type": "code",
   "execution_count": 4,
   "id": "f506a405",
   "metadata": {},
   "outputs": [
    {
     "data": {
      "text/plain": [
       "count    500.00\n",
       "mean      49.16\n",
       "std       14.33\n",
       "min        2.00\n",
       "25%       39.00\n",
       "50%       49.00\n",
       "75%       58.00\n",
       "max       88.00\n",
       "dtype: float64"
      ]
     },
     "execution_count": 4,
     "metadata": {},
     "output_type": "execute_result"
    }
   ],
   "source": [
    "# 500人分の数学の点数のarray\n",
    "math_scores = np.array(df['数学'])\n",
    "# Seriesに変換してdescribeを表示、ここで小数点2ケタにするためにprecisionを2に設定している。\n",
    "pd.set_option('precision', 2)\n",
    "pd.Series(math_scores).describe()"
   ]
  },
  {
   "cell_type": "code",
   "execution_count": 21,
   "id": "b156309d",
   "metadata": {
    "scrolled": true
   },
   "outputs": [
    {
     "data": {
      "image/png": "[encoded data removed]",
      "text/plain": [
       "<Figure size 720x432 with 1 Axes>"
      ]
     },
     "metadata": {
      "needs_background": "light"
     },
     "output_type": "display_data"
    }
   ],
   "source": [
    "%matplotlib inline\n",
    "import matplotlib.pyplot as plt\n",
    "\n",
    "fig = plt.figure(figsize=(10, 6))\n",
    "ax = fig.add_subplot(111)\n",
    "\n",
    "freq, _ , _ = ax.hist(math_scores, bins=100, range=(0, 100))\n",
    "#平均値が分かりやすいよう黒い線を平均値にいれる\n",
    "ax.vlines(np.mean(scores),0,20,'black')\n",
    "\n",
    "ax.set_xlabel('点数', fontname=\"MS Gothic\")\n",
    "ax.set_ylabel('人数', fontname=\"MS Gothic\")\n",
    "ax.set_xticks(np.linspace(0, 100, 25+1))\n",
    "ax.set_yticks(np.arange(0, freq.max()+1))\n",
    "plt.grid()\n",
    "plt.show()"
   ]
  },
  {
   "cell_type": "markdown",
   "id": "7b2fbf8d",
   "metadata": {},
   "source": [
    "グラフより、このデータはおおよそ正規分布に従っていることが分かる。\n",
    "次に平均$\\pm\\sigma$に含まれるデータが全体の何％を占めているかを計算する。\n",
    "全500個のデータ中、平均$\\pm\\sigma$に含まれるデータ数がいくつあるか計算し、その割合を求める。"
   ]
  },
  {
   "cell_type": "code",
   "execution_count": 6,
   "id": "c85a6ade",
   "metadata": {
    "scrolled": true
   },
   "outputs": [
    {
     "name": "stdout",
     "output_type": "stream",
     "text": [
      "      数学\n",
      "生徒番号    \n",
      "1     53\n",
      "2     54\n",
      "3     48\n",
      "4     50\n",
      "5     28\n",
      "...   ..\n",
      "496   72\n",
      "497   31\n",
      "498   66\n",
      "499   50\n",
      "500   36\n",
      "\n",
      "[500 rows x 1 columns]\n"
     ]
    }
   ],
   "source": [
    "# データ数、数値の確認\n",
    "print(df)"
   ]
  },
  {
   "cell_type": "code",
   "execution_count": 20,
   "id": "2d76e1a9",
   "metadata": {
    "scrolled": true
   },
   "outputs": [
    {
     "name": "stdout",
     "output_type": "stream",
     "text": [
      "68則\n",
      "       数学\n",
      "生徒番号    \n",
      "1     53\n",
      "2     54\n",
      "3     48\n",
      "4     50\n",
      "6     58\n",
      "...   ..\n",
      "492   37\n",
      "494   37\n",
      "495   49\n",
      "499   50\n",
      "500   36\n",
      "\n",
      "[346 rows x 1 columns]\n"
     ]
    }
   ],
   "source": [
    "# データ数、数値の確認　はじかれている数があることが分かる\n",
    "ave1 = df[(df['数学'] < 49.16 + 14.33) & (df['数学'] > 49.16 - 14.33)]\n",
    "print('68則\\n',ave1)"
   ]
  },
  {
   "cell_type": "code",
   "execution_count": 9,
   "id": "5b91dee7",
   "metadata": {},
   "outputs": [
    {
     "name": "stdout",
     "output_type": "stream",
     "text": [
      "69.2 %\n"
     ]
    }
   ],
   "source": [
    "rule68 = len(ave1) / len(df) * 100\n",
    "print(round(rule68,2),'%')"
   ]
  },
  {
   "cell_type": "markdown",
   "id": "d473da8e",
   "metadata": {},
   "source": [
    "### ②68則が成り立っているかの結果\n",
    "よってこのデータは正規分布に準じていて、平均$\\pm\\sigma$に含まれるデータが全体の69.2％を占めているということが分かった。\n",
    "グラフよりこのデータは綺麗な正規分布ではないためある程度の誤差はあると考えられる。そのため68％ルールがこのデータにおいて成り立っているだろうと推測できる。"
   ]
  },
  {
   "cell_type": "markdown",
   "id": "e21e0cf5-6561-4c52-98b0-e28300d3ff8c",
   "metadata": {},
   "source": [
    "### ③95–99.7則の成立確認\n",
    "同じ方法で95–99.7則が成立しているかも確認する。誤差が大きくなるのか小さくなるのかにも着目しながら行う。"
   ]
  },
  {
   "cell_type": "code",
   "execution_count": 10,
   "id": "5606d26c-d168-4d6f-a61e-abfb0dcb257f",
   "metadata": {},
   "outputs": [
    {
     "name": "stdout",
     "output_type": "stream",
     "text": [
      "95則\n",
      "       数学\n",
      "生徒番号    \n",
      "1     53\n",
      "2     54\n",
      "3     48\n",
      "4     50\n",
      "5     28\n",
      "...   ..\n",
      "496   72\n",
      "497   31\n",
      "498   66\n",
      "499   50\n",
      "500   36\n",
      "\n",
      "[476 rows x 1 columns]\n",
      "95.2 %\n"
     ]
    }
   ],
   "source": [
    "ave2 = df[(df['数学'] < 49.16 + 2*14.33) & (df['数学'] > 49.16 - 2*14.33)]\n",
    "print('95則\\n',ave2)\n",
    "rule95 = len(ave2) / len(df) * 100\n",
    "print(round(rule95,2),'%')"
   ]
  },
  {
   "cell_type": "code",
   "execution_count": 11,
   "id": "528a0657-81df-4447-a37e-fbf328fd3f21",
   "metadata": {},
   "outputs": [
    {
     "name": "stdout",
     "output_type": "stream",
     "text": [
      "99.7則\n",
      "       数学\n",
      "生徒番号    \n",
      "1     53\n",
      "2     54\n",
      "3     48\n",
      "4     50\n",
      "5     28\n",
      "...   ..\n",
      "496   72\n",
      "497   31\n",
      "498   66\n",
      "499   50\n",
      "500   36\n",
      "\n",
      "[499 rows x 1 columns]\n",
      "99.8 %\n"
     ]
    }
   ],
   "source": [
    "ave3 = df[(df['数学'] < 49.16 + 3*14.33) & (df['数学'] > 49.16 - 3*14.33)]\n",
    "print('99.7則\\n',ave3)\n",
    "rule997 = len(ave3) / len(df) * 100\n",
    "print(round(rule997,2),'%')"
   ]
  },
  {
   "cell_type": "markdown",
   "id": "78dda69e-7651-41c7-8134-c5433f6d2887",
   "metadata": {},
   "source": [
    "### ④95–99.7則が成り立っているかの結果\n",
    "こちらは68則の時と比べより正確に95–99.7%に近づいている。よって95–99.7則が成り立っていることが確認できるとともにグラフが正規分布であるか評価するのにも役立っていることが分かる。"
   ]
  },
  {
   "cell_type": "markdown",
   "id": "bcef0886-309c-4b1e-8465-e1156b3eebbf",
   "metadata": {},
   "source": [
    "### (Ⅱ)結論\n",
    "正規分布に従うデータでは、このルールによってある程度正確性を持つ予測を立てる事が可能になっている。\n",
    "またこの数値の差から母数データがどれくらい正規分布に従っているかを評価することも出来る。\n",
    "68–95–99.7則はデータを扱う上で非常に便利な性質を持っている事が分かった。"
   ]
  },
  {
   "cell_type": "markdown",
   "id": "1abc43a1-5009-4cdb-9527-b97b003e2825",
   "metadata": {},
   "source": [
    "前 → [1-2 分散・標準偏差.ipynb](https://github.com/IT-1009/statistics/blob/main/1-2%20%E5%88%86%E6%95%A3%E3%83%BB%E6%A8%99%E6%BA%96%E5%81%8F%E5%B7%AE.ipynb)"
   ]
  }
 ],
 "metadata": {
  "kernelspec": {
   "display_name": "Python 3",
   "language": "python",
   "name": "python3"
  },
  "language_info": {
   "codemirror_mode": {
    "name": "ipython",
    "version": 3
   },
   "file_extension": ".py",
   "mimetype": "text/x-python",
   "name": "python",
   "nbconvert_exporter": "python",
   "pygments_lexer": "ipython3",
   "version": "3.8.8"
  }
 },
 "nbformat": 4,
 "nbformat_minor": 5
}
