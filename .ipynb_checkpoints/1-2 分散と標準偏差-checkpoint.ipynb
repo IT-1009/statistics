{
 "cells": [
  {
   "cell_type": "markdown",
   "id": "289d2098",
   "metadata": {},
   "source": [
    "# 1-2 分散と標準偏差"
   ]
  },
  {
   "cell_type": "markdown",
   "id": "7c2ee1e5",
   "metadata": {},
   "source": [
    "### 分散の定義"
   ]
  },
  {
   "cell_type": "markdown",
   "id": "8c7a0306-0ce6-41e6-a2f8-bd9a7d5128b2",
   "metadata": {},
   "source": [
    "分散とは確率変数の試行によって得られた実測値におけるばらつきを表す値である. \\\n",
    "分散$\\sigma^2$はデータの総数を$n$、各数値を$x_{i}$、平均値を$\\bar{x}$とすると"
   ]
  },
  {
   "cell_type": "markdown",
   "id": "8c73be12",
   "metadata": {},
   "source": [
    "\\begin{equation}\n",
    "\\ \\sigma^2 = \\frac{1}{n}  \\sum^{n}_{n=1} (x_{i} - \\bar{x})^2\n",
    "\\end{equation}"
   ]
  },
  {
   "cell_type": "markdown",
   "id": "61ce0e16-44c1-4e4e-90ef-972ca4b72d26",
   "metadata": {},
   "source": [
    "となる."
   ]
  },
  {
   "cell_type": "markdown",
   "id": "bf64f4ee",
   "metadata": {},
   "source": [
    "### 標準偏差の定義"
   ]
  },
  {
   "cell_type": "markdown",
   "id": "3120f4ca-3024-49f6-bffa-09118c8ebe8b",
   "metadata": {},
   "source": [
    "標準偏差は分散の平方根である. つまり標準偏差は分散と同じく確率変数における値のばらつきを表す値である. 分散と違う点は平方根をとったことで実測値との単位が同じになっているため、比較しやすい値であるという点である.\\\n",
    "標準偏差$\\sigma$はデータの総数を$n$、各数値を$x_{i}$、平均値を$\\bar{x}$とすると"
   ]
  },
  {
   "cell_type": "markdown",
   "id": "b7496b64",
   "metadata": {},
   "source": [
    "\\begin{equation}\n",
    "\\ \\sigma = \\sqrt {\\sigma^2} = \\sqrt {\\frac{1}{n}  \\sum^{n}_{n=1} (x_{i} - \\bar{x})^2}\n",
    "\\end{equation}"
   ]
  },
  {
   "cell_type": "markdown",
   "id": "fb4dcfb5-1003-4752-95a5-de662e521db6",
   "metadata": {},
   "source": [
    "となる."
   ]
  },
  {
   "cell_type": "markdown",
   "id": "821f1a7c-c08f-4b7a-b741-8960ba49fb4b",
   "metadata": {},
   "source": [
    "このページでは分散・標準偏差についての説明をする. 例としてサイコロを使って話を行う. 普通のサイコロといかさまサイコロを用意し、それぞれの確率変数における分散と標準偏差を求める. "
   ]
  },
  {
   "cell_type": "markdown",
   "id": "f1bc9b13-10b2-4de5-9d7a-9287fb7d1f31",
   "metadata": {},
   "source": [
    "***"
   ]
  },
  {
   "cell_type": "markdown",
   "id": "2044d24b-8b63-4b3f-949b-a1282bfed78c",
   "metadata": {},
   "source": [
    "### ①普通のサイコロの作成"
   ]
  },
  {
   "cell_type": "markdown",
   "id": "fb2a6439-0aca-419c-a670-a51989445344",
   "metadata": {},
   "source": [
    "まず1~6の目が等確率で出る普通のサイコロを作成する. 次にそのサイコロを1万回回し、出た目の和の分散と標準偏差を求める. 最後に結果が視覚的に分かりやすいようにグラフを作成する."
   ]
  },
  {
   "cell_type": "code",
   "execution_count": 1,
   "id": "4e4dd312",
   "metadata": {},
   "outputs": [],
   "source": [
    "import numpy as np\n",
    "import matplotlib.pyplot as plt\n",
    "import random\n",
    "dice = [1, 2, 3, 4, 5, 6]\n",
    "#2つのサイコロでランダムな目を10000回出す\n",
    "np.random.seed(0)\n",
    "num_trial = 10000\n",
    "normal = np.random.choice(dice, num_trial)\n",
    "normal2 = np.random.choice(dice, num_trial)"
   ]
  },
  {
   "cell_type": "code",
   "execution_count": 2,
   "id": "5cc4c192",
   "metadata": {},
   "outputs": [],
   "source": [
    "#2つの目の合計をnormalSとする\n",
    "normalS = normal + normal2"
   ]
  },
  {
   "cell_type": "code",
   "execution_count": 3,
   "id": "19ae8bcb",
   "metadata": {},
   "outputs": [
    {
     "data": {
      "image/png": "[encoded data removed]",
      "text/plain": [
       "<Figure size 432x288 with 1 Axes>"
      ]
     },
     "metadata": {
      "needs_background": "light"
     },
     "output_type": "display_data"
    },
    {
     "name": "stdout",
     "output_type": "stream",
     "text": [
      "平均値 = 7\n",
      "分散 = 5.82\n",
      "標準偏差 = 2.41\n"
     ]
    }
   ],
   "source": [
    "plt.hist(normalS, bins=50)\n",
    "plt.show()\n",
    "#期待値\n",
    "average = sum(normalS) / len(normalS)\n",
    "print(\"平均値 = \"'{:.3g}'.format(average))\n",
    "#分散\n",
    "print(\"分散 = \"'{:.3g}'.format(np.var(normalS)))\n",
    "#標準偏差\n",
    "print(\"標準偏差 = \"'{:.3g}'.format(np.sqrt(np.var(normalS,ddof=0))))"
   ]
  },
  {
   "cell_type": "markdown",
   "id": "38fca68b-7a04-442f-8a80-e3749fd001fb",
   "metadata": {},
   "source": [
    "***"
   ]
  },
  {
   "cell_type": "markdown",
   "id": "54f3be80",
   "metadata": {},
   "source": [
    "### ②いかさまサイコロの作成"
   ]
  },
  {
   "cell_type": "markdown",
   "id": "185cfa6b-6a4e-4660-a141-000316de3039",
   "metadata": {},
   "source": [
    "先ほどは1\\~6の目が等確率で出る普通のサイコロを作成したが今回は1\\~5の目が1/21で出て、６の目が16/21の確率で出るようないかさまサイコロを作成する. 次にいかさまサイコロを1万回回し、出た目の和の分散と標準偏差を求める. 最後に結果が視覚的に分かりやすいようにグラフを作成する."
   ]
  },
  {
   "cell_type": "code",
   "execution_count": 4,
   "id": "ec5a3e4c",
   "metadata": {},
   "outputs": [],
   "source": [
    "#確率の設定。それぞれの目に対して配列の位置が対応している。\n",
    "prob = [1/21, 1/21, 1/21, 1/21, 1/21, 16/21]\n",
    "np.random.seed(0)\n",
    "num_trial = 10000\n",
    "ikasama = np.random.choice(dice, num_trial, p=prob)\n",
    "ikasama2 = np.random.choice(dice, num_trial, p=prob)"
   ]
  },
  {
   "cell_type": "code",
   "execution_count": 5,
   "id": "5608480a",
   "metadata": {},
   "outputs": [],
   "source": [
    "#2つの目の合計をikasamaSとする\n",
    "ikasamaS = ikasama + ikasama2"
   ]
  },
  {
   "cell_type": "code",
   "execution_count": 6,
   "id": "fe1ed332",
   "metadata": {},
   "outputs": [
    {
     "data": {
      "image/png": "[encoded data removed]",
      "text/plain": [
       "<Figure size 432x288 with 1 Axes>"
      ]
     },
     "metadata": {
      "needs_background": "light"
     },
     "output_type": "display_data"
    },
    {
     "name": "stdout",
     "output_type": "stream",
     "text": [
      "平均値 = 10.5\n",
      "分散 = 4.39\n",
      "標準偏差 = 2.1\n"
     ]
    }
   ],
   "source": [
    "plt.hist(ikasamaS, bins=50)\n",
    "plt.show()\n",
    "#期待値\n",
    "average = sum(ikasamaS) / len(ikasamaS)\n",
    "print(\"平均値 = \"'{:.3g}'.format(average))\n",
    "#分散\n",
    "print(\"分散 = \"'{:.3g}'.format(np.var(ikasamaS)))\n",
    "#標準偏差\n",
    "print(\"標準偏差 = \"'{:.3g}'.format(np.sqrt(np.var(ikasamaS,ddof=0))))"
   ]
  },
  {
   "cell_type": "markdown",
   "id": "01b94e0c-6359-41a1-b136-9128a1109583",
   "metadata": {},
   "source": [
    "### ③結果の比較"
   ]
  },
  {
   "cell_type": "markdown",
   "id": "b1aa0522-e0d0-4bc4-93ad-09f01926c074",
   "metadata": {},
   "source": [
    "➀,➁の結果を見てみると➀の分散と標準偏差の値が大きいため➀の方が実測値のばらつきが大きいことが分かる. \n",
    "しかし$\\sigma^2$=5.82の時と$\\sigma^2$=4.39の時とで散らばり具合がどれほど違うかはイメージが難しい. そこで➀,②で求めた2つのグラフを重ねて1つのグラフに表し、それぞれのグラフを比較を行う. 比較する際には値のばらつき具合に着目してグラフを見てみる."
   ]
  },
  {
   "cell_type": "code",
   "execution_count": 7,
   "id": "f9f1d462",
   "metadata": {},
   "outputs": [
    {
     "data": {
      "image/png": "[encoded data removed]",
      "text/plain": [
       "<Figure size 432x288 with 1 Axes>"
      ]
     },
     "metadata": {
      "needs_background": "light"
     },
     "output_type": "display_data"
    }
   ],
   "source": [
    "plt.figure()\n",
    "plt.hist(normalS, bins=50, alpha=0.25, color='r')   # 普通のサイコロ\n",
    "plt.hist(ikasamaS, bins=50, alpha=0.25, color='b')  # イカサマサイコロ\n",
    "plt.show()"
   ]
  },
  {
   "cell_type": "markdown",
   "id": "6a64362a",
   "metadata": {},
   "source": [
    "赤色は普通のサイコロのグラフ、青色はいかさまサイコロのグラフである. 紫色は2つのグラフが重なっている部分である. グラフを見てみると、いかさまサイコロは普通のサイコロよりもばらつきが少なく、平均値に近い値が出やすいことがグラフより読み取れる."
   ]
  },
  {
   "cell_type": "markdown",
   "id": "94bafe78-c2e0-4993-a7a0-2d274040cfb2",
   "metadata": {},
   "source": [
    "## 結論"
   ]
  },
  {
   "cell_type": "markdown",
   "id": "0c509881",
   "metadata": {},
   "source": [
    "以上の結果から分散と標準偏差の値はデータのばらつきを表す値であることが分かった. また分散の値から具体的なばらつき度のイメージをすることは難しいことも分かった. ではここで標準偏差について考えてみる. 定義を見返してみると分散と標準偏差の異なる点は単位が実測値と同じであるという点であった. 単位が同じであるならば実測値に対して加減法を行うことが可能である. そこで平均値と分散との$\\pm$を考えてみると、➀は$\\bar{x}$$-\\sigma$=4.59から$\\bar{x}$$+\\sigma$=9.41、➁は$\\bar{x}$$-\\sigma$=8.4から$\\bar{x}$$+\\sigma$=12.6の範囲に値が収まっているといえる. そこでグラフを見てみると➁などは特に顕著で、確かに半数以上の値がこの範囲にある. つまり分散は「ある実測値をとってみると、その値が平均値から平均的に離れている数値」ともいえるのである. 分散から扱っている確率変数におけるばらつきをイメージするのは難しいと思うが、標準偏差ならば抽象的であるばらつきの程度が分かるのである. 「標準偏差は分散の平方根」とただ覚えるのではなくこのような概念も持っていて欲しい."
   ]
  },
  {
   "cell_type": "markdown",
   "id": "3a292f21-dfb0-4408-9bce-4aa3eca6fd50",
   "metadata": {},
   "source": [
    "<!-- 勿論グラフを見れば、データの散らばりがどの様になっているかはすぐわかる. しかしわざわざグラフを見なくとも分散の値を見ることで、データのばらつきの評価が可能なのである.\n",
    "\n",
    "また標準偏差の定義より実測値との加減算が可能であるから、平均値と分散との$\\pm$を考えてみると、➀は$\\bar{x}$$+\\sigma$=2.43よりこれを平均値と足してみると\n",
    "\n",
    "そこで実際に「いかさまサイコロを2回振った時の出る目の和は、平均値$\\pm\\sigma$である8~12点になるだろう」と言うことができる.\n",
    "-->"
   ]
  },
  {
   "cell_type": "markdown",
   "id": "d3f9ee67-c184-4463-8447-2e5b530e4eb5",
   "metadata": {},
   "source": [
    "前 → [1-1 確率統計学を行う目的.ipynb](https://github.com/IT-1009/statistics/blob/main/1-1%20%E6%9C%9F%E5%BE%85%E5%80%A4.ipynb)\n",
    "<!--\n",
    "次 → [1-3 標準偏差が持つルール、68–95–99.7則.ipynb](https://github.com/IT-1009/statistics/blob/main/1-3%20%E6%A8%99%E6%BA%96%E5%81%8F%E5%B7%AE%E3%81%8C%E6%8C%81%E3%81%A4%E3%83%AB%E3%83%BC%E3%83%AB%E3%80%8168%E2%80%9395%E2%80%9399.7%E5%89%87.ipynb)\n",
    "-->"
   ]
  },
  {
   "cell_type": "markdown",
   "id": "a9001174-969f-4325-b59b-452e27f04eae",
   "metadata": {},
   "source": [
    "<!--\n",
    "引用文献\n",
    "[1]難波博之. \"分散の意味と2通りの計算方法\" 高校数学の美しい物語.  2021年03月07日.\n",
    "https://manabitimes.jp/math/1081\n",
    "\n",
    "[2]難波博之. \"標準偏差の意味と分散との違い\" 高校数学の美しい物語.  2021年03月07日.\n",
    "https://manabitimes.jp/math/1300\n",
    "### 追記：本文とは関係ないですが…\n",
    "分散ってなんで二乗なんだろ～、とか分散の値って感覚として分かりづらいな～、みたいな疑問がずっとあったんですが、この記事を読んで長年の疑問が解消されたので下の記事も是非読んでみてほしいです。参考になると思います。\n",
    "https://rikunora.hatenablog.com/entry/2019/04/09/114614\n",
    "-->"
   ]
  }
 ],
 "metadata": {
  "kernelspec": {
   "display_name": "Python 3",
   "language": "python",
   "name": "python3"
  },
  "language_info": {
   "codemirror_mode": {
    "name": "ipython",
    "version": 3
   },
   "file_extension": ".py",
   "mimetype": "text/x-python",
   "name": "python",
   "nbconvert_exporter": "python",
   "pygments_lexer": "ipython3",
   "version": "3.8.8"
  }
 },
 "nbformat": 4,
 "nbformat_minor": 5
}
