{
 "cells": [
  {
   "cell_type": "markdown",
   "id": "289d2098",
   "metadata": {},
   "source": [
    "# 1-2 分散と標準偏差"
   ]
  },
  {
   "cell_type": "markdown",
   "id": "7c2ee1e5",
   "metadata": {},
   "source": [
    "### 分散の定義"
   ]
  },
  {
   "cell_type": "markdown",
   "id": "8c7a0306-0ce6-41e6-a2f8-bd9a7d5128b2",
   "metadata": {},
   "source": [
    ">分散とは，データの散らばりの大きさを表す指標です。分散が小さいほど「全員が平均に近い」と言え，分散が大きいほど「平均から遠いデータが多い」と言えます。（中略）分散の定義は 「平均からの差の二乗」の平均です。[1]"
   ]
  },
  {
   "cell_type": "markdown",
   "id": "02dde5d6-69a0-4f75-b522-19ad5ff75a28",
   "metadata": {},
   "source": [
    "分散$\\sigma^2$は次の式で求められる. $n$はデータの総数、$x_{i}$は各数値、$\\bar{x}$は平均値を表す."
   ]
  },
  {
   "cell_type": "markdown",
   "id": "8c73be12",
   "metadata": {},
   "source": [
    "\\begin{equation}\n",
    "\\ \\sigma^2 = \\frac{1}{n}  \\sum^{n}_{n=1} (x_{i} - \\bar{x})^2\n",
    "\\end{equation}"
   ]
  },
  {
   "cell_type": "markdown",
   "id": "bf64f4ee",
   "metadata": {},
   "source": [
    "### 標準偏差の定義"
   ]
  },
  {
   "cell_type": "markdown",
   "id": "3120f4ca-3024-49f6-bffa-09118c8ebe8b",
   "metadata": {},
   "source": [
    ">標準偏差はデータの散らばり具合を表す指標です。（中略）「確率分布に対する標準偏差」は「確率分布に対する分散の正の平方根」で定義します。[2]"
   ]
  },
  {
   "cell_type": "markdown",
   "id": "622ea6c1-ab9b-46e0-a396-459dced85bef",
   "metadata": {},
   "source": [
    "標準偏差$\\sigma$は次の式で求められる. $n$はデータの総数、$x_{i}$は各数値、$\\bar{x}$は平均値を表す."
   ]
  },
  {
   "cell_type": "markdown",
   "id": "b7496b64",
   "metadata": {},
   "source": [
    "\\begin{equation}\n",
    "\\ \\sigma = \\sqrt {\\sigma^2} = \\sqrt {\\frac{1}{n}  \\sum^{n}_{n=1} (x_{i} - \\bar{x})^2}\n",
    "\\end{equation}"
   ]
  },
  {
   "cell_type": "markdown",
   "id": "821f1a7c-c08f-4b7a-b741-8960ba49fb4b",
   "metadata": {},
   "source": [
    "このページでは分散・標準偏差についての説明をする. 例としてサイコロを使って話を行う. 普通のサイコロといかさまサイコロを用意し、それぞれの確率分布の分散と標準偏差を求める. また、データのばらつきが分かりやすくするため、サイコロを2回振りその出目の合計値における分散と標準偏差を考えてみる."
   ]
  },
  {
   "cell_type": "markdown",
   "id": "f1bc9b13-10b2-4de5-9d7a-9287fb7d1f31",
   "metadata": {},
   "source": [
    "***"
   ]
  },
  {
   "cell_type": "markdown",
   "id": "2044d24b-8b63-4b3f-949b-a1282bfed78c",
   "metadata": {},
   "source": [
    "### ①普通のサイコロの作成"
   ]
  },
  {
   "cell_type": "code",
   "execution_count": 1,
   "id": "fcd4ce7a",
   "metadata": {},
   "outputs": [],
   "source": [
    "#まずは普通のサイコロを作成する。いかさまサイコロを作成する関係上、ダイスの目を配列で扱う。\n",
    "import numpy as np\n",
    "import matplotlib.pyplot as plt\n",
    "import random\n",
    "dice = [1, 2, 3, 4, 5, 6]"
   ]
  },
  {
   "cell_type": "code",
   "execution_count": 2,
   "id": "4e4dd312",
   "metadata": {},
   "outputs": [],
   "source": [
    "#2つのサイコロで1~6の目をランダムに10000回出す\n",
    "num_trial = 10000\n",
    "normal = np.random.choice(dice, num_trial)\n",
    "normal2 = np.random.choice(dice, num_trial)"
   ]
  },
  {
   "cell_type": "code",
   "execution_count": 3,
   "id": "5cc4c192",
   "metadata": {},
   "outputs": [],
   "source": [
    "#2つの目の合計をnormalSとする\n",
    "normalS = normal + normal2"
   ]
  },
  {
   "cell_type": "code",
   "execution_count": 4,
   "id": "19ae8bcb",
   "metadata": {},
   "outputs": [
    {
     "data": {
      "image/png": "[encoded data removed]",
      "text/plain": [
       "<Figure size 432x288 with 1 Axes>"
      ]
     },
     "metadata": {
      "needs_background": "light"
     },
     "output_type": "display_data"
    },
    {
     "name": "stdout",
     "output_type": "stream",
     "text": [
      "平均値 = 7.03\n",
      "分散 = 5.85\n",
      "標準偏差 = 2.42\n"
     ]
    }
   ],
   "source": [
    "plt.hist(normalS, bins=50)\n",
    "plt.show()\n",
    "#期待値\n",
    "average = sum(normalS) / len(normalS)\n",
    "print(\"平均値 = \"'{:.3g}'.format(average))\n",
    "#分散\n",
    "print(\"分散 = \"'{:.3g}'.format(np.var(normalS)))\n",
    "#標準偏差\n",
    "print(\"標準偏差 = \"'{:.3g}'.format(np.sqrt(np.var(normalS,ddof=0))))"
   ]
  },
  {
   "cell_type": "markdown",
   "id": "38fca68b-7a04-442f-8a80-e3749fd001fb",
   "metadata": {},
   "source": [
    "***"
   ]
  },
  {
   "cell_type": "markdown",
   "id": "54f3be80",
   "metadata": {},
   "source": [
    "### ②いかさまサイコロの作成"
   ]
  },
  {
   "cell_type": "code",
   "execution_count": 5,
   "id": "ec5a3e4c",
   "metadata": {},
   "outputs": [],
   "source": [
    "#確率の設定。それぞれの目に対して配列の位置が対応している。ここでは６の目が16/21の確率で出ることとなる。\n",
    "prob = [1/21, 1/21, 1/21, 1/21, 1/21, 16/21]\n",
    "num_trial = 10000\n",
    "ikasama = np.random.choice(dice, num_trial, p=prob)\n",
    "ikasama2 = np.random.choice(dice, num_trial, p=prob)"
   ]
  },
  {
   "cell_type": "code",
   "execution_count": 6,
   "id": "5608480a",
   "metadata": {},
   "outputs": [],
   "source": [
    "#2つの目の合計をikasamaSとする\n",
    "ikasamaS = ikasama + ikasama2"
   ]
  },
  {
   "cell_type": "code",
   "execution_count": 7,
   "id": "fe1ed332",
   "metadata": {},
   "outputs": [
    {
     "data": {
      "image/png": "[encoded data removed]",
      "text/plain": [
       "<Figure size 432x288 with 1 Axes>"
      ]
     },
     "metadata": {
      "needs_background": "light"
     },
     "output_type": "display_data"
    },
    {
     "name": "stdout",
     "output_type": "stream",
     "text": [
      "平均値 = 10.6\n",
      "分散 = 4.22\n",
      "標準偏差 = 2.05\n"
     ]
    }
   ],
   "source": [
    "plt.hist(ikasamaS, bins=50)\n",
    "plt.show()\n",
    "#期待値\n",
    "average = sum(ikasamaS) / len(ikasamaS)\n",
    "print(\"平均値 = \"'{:.3g}'.format(average))\n",
    "#分散\n",
    "print(\"分散 = \"'{:.3g}'.format(np.var(ikasamaS)))\n",
    "#標準偏差\n",
    "print(\"標準偏差 = \"'{:.3g}'.format(np.sqrt(np.var(ikasamaS,ddof=0))))"
   ]
  },
  {
   "cell_type": "markdown",
   "id": "01b94e0c-6359-41a1-b136-9128a1109583",
   "metadata": {},
   "source": [
    "### ③表の比較"
   ]
  },
  {
   "cell_type": "code",
   "execution_count": 8,
   "id": "f9f1d462",
   "metadata": {},
   "outputs": [
    {
     "data": {
      "image/png": "[encoded data removed]",
      "text/plain": [
       "<Figure size 432x288 with 1 Axes>"
      ]
     },
     "metadata": {
      "needs_background": "light"
     },
     "output_type": "display_data"
    }
   ],
   "source": [
    "plt.figure()\n",
    "plt.hist(normalS, bins=50, alpha=0.25, color='r')   # 普通のサイコロ\n",
    "plt.hist(ikasamaS, bins=50, alpha=0.25, color='b')  # イカサマサイコロ\n",
    "plt.show()"
   ]
  },
  {
   "cell_type": "markdown",
   "id": "6a64362a",
   "metadata": {},
   "source": [
    "普通のサイコロのグラフは赤色、いかさまサイコロのグラフは青色である. 紫色は2つのグラフで重なっている部分である. 比較されたグラフを見てみると、いかさまサイコロは普通のサイコロよりも偏りが大きく、また平均値に近い値が出やすいことが分かる."
   ]
  },
  {
   "cell_type": "markdown",
   "id": "94bafe78-c2e0-4993-a7a0-2d274040cfb2",
   "metadata": {},
   "source": [
    "## 結論"
   ]
  },
  {
   "cell_type": "markdown",
   "id": "0c509881",
   "metadata": {},
   "source": [
    "データにばらつきがあり、平均値に近い値が出にくいとき分散と標準偏差の値が大きくなることが分かった. 勿論グラフを見れば、データの散らばりがどの様になっているかはすぐわかる. しかしわざわざグラフを見なくとも分散の値を見ることで、データのばらつきの評価が可能なのである. また標準偏差はデータと同じ単位であり加減法が可能なため、「いかさまサイコロを2回振った時の出る目の和は、平均値$\\pm\\sigma$である8~12点になるだろう」と言うことができる. 標準偏差と分散の大きな違いは数学的な評価として使うか、実際のデータの評価かとして使うかであろう."
   ]
  },
  {
   "cell_type": "markdown",
   "id": "858a5d9e-e3d4-4f85-9f47-41b20f5c091b",
   "metadata": {},
   "source": [
    "引用文献"
   ]
  },
  {
   "cell_type": "markdown",
   "id": "9cfbac4d-30ab-4059-af3f-ee54792899a5",
   "metadata": {},
   "source": [
    "[1]難波博之. \"分散の意味と2通りの計算方法\" 高校数学の美しい物語.  2021年03月07日.\n",
    "https://manabitimes.jp/math/1081\n",
    "\n",
    "[2]難波博之. \"標準偏差の意味と分散との違い\" 高校数学の美しい物語.  2021年03月07日.\n",
    "https://manabitimes.jp/math/1300"
   ]
  },
  {
   "cell_type": "markdown",
   "id": "d3f9ee67-c184-4463-8447-2e5b530e4eb5",
   "metadata": {},
   "source": [
    "<!--\n",
    "前 → [1-1 確率統計学を行う目的.ipynb](https://github.com/IT-1009/statistics/blob/main/1-1%20%E7%A2%BA%E7%8E%87%E7%B5%B1%E8%A8%88%E5%AD%A6%E3%82%92%E8%A1%8C%E3%81%86%E7%9B%AE%E7%9A%84.ipynb)\n",
    "\n",
    "次 → [1-3 標準偏差が持つルール、68–95–99.7則.ipynb](https://github.com/IT-1009/statistics/blob/main/1-3%20%E6%A8%99%E6%BA%96%E5%81%8F%E5%B7%AE%E3%81%8C%E6%8C%81%E3%81%A4%E3%83%AB%E3%83%BC%E3%83%AB%E3%80%8168%E2%80%9395%E2%80%9399.7%E5%89%87.ipynb)\n",
    "-->"
   ]
  },
  {
   "cell_type": "markdown",
   "id": "a9001174-969f-4325-b59b-452e27f04eae",
   "metadata": {},
   "source": [
    "<!--\n",
    "### 追記：本文とは関係ないですが…\n",
    "分散ってなんで二乗なんだろ～、とか分散の値って感覚として分かりづらいな～、みたいな疑問がずっとあったんですが、この記事を読んで長年の疑問が解消されたので下の記事も是非読んでみてほしいです。参考になると思います。\n",
    "https://rikunora.hatenablog.com/entry/2019/04/09/114614\n",
    "-->"
   ]
  }
 ],
 "metadata": {
  "kernelspec": {
   "display_name": "Python 3",
   "language": "python",
   "name": "python3"
  },
  "language_info": {
   "codemirror_mode": {
    "name": "ipython",
    "version": 3
   },
   "file_extension": ".py",
   "mimetype": "text/x-python",
   "name": "python",
   "nbconvert_exporter": "python",
   "pygments_lexer": "ipython3",
   "version": "3.8.8"
  }
 },
 "nbformat": 4,
 "nbformat_minor": 5
}
