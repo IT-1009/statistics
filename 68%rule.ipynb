{
 "cells": [
  {
   "cell_type": "markdown",
   "id": "0c6e01f4",
   "metadata": {},
   "source": [
    "### 標準偏差が持つルール、68–95–99.7則\n",
    "\n",
    "ここでは標準偏差$\\sigma$が持っている68–95–99.7則と呼ばれる性質の説明を行う。\n",
    "\n",
    "68–95–99.7則は正規分布に従うグラフであるとき、平均$\\pm\\sigma$に含まれるデータは全体の68％を占め、平均$\\pm2\\sigma$に含まれるデータは全体の95％を占め、平均$\\pm3\\sigma$に含まれるデータは全体の99.7％を占めるという法則である。\n",
    "\n",
    "ここでは68％の時について考えていく。"
   ]
  },
  {
   "cell_type": "markdown",
   "id": "92d9b771",
   "metadata": {},
   "source": [
    "データ量の関係より今回はcsvファイルで説明を行う。同じワークスペースにdataフォルダを作り、そこにcsvファイルを置いて読み取る。今回は500人の生徒の数学のテストの結果を模したcsvファイルを作成した。"
   ]
  },
  {
   "cell_type": "markdown",
   "id": "c41d7d01",
   "metadata": {},
   "source": [
    "初めにcsvファイルの読み込みが出来ているかを確認する。"
   ]
  },
  {
   "cell_type": "code",
   "execution_count": 1,
   "id": "c07a7362",
   "metadata": {},
   "outputs": [],
   "source": [
    "import numpy as np\n",
    "import pandas as pd\n",
    "import random"
   ]
  },
  {
   "cell_type": "code",
   "execution_count": 2,
   "id": "ac529668",
   "metadata": {},
   "outputs": [],
   "source": [
    "#csvファイルの読み込みを行う。\n",
    "df = pd.read_csv('data/suugaku.csv',\n",
    "                 index_col='生徒番号')\n",
    "#１0人分の数学のデータを使う\n",
    "scores = np.array(df['数学'])[:10]"
   ]
  },
  {
   "cell_type": "code",
   "execution_count": 3,
   "id": "26a328a1",
   "metadata": {},
   "outputs": [
    {
     "data": {
      "text/html": [
       "<div>\n",
       "<style scoped>\n",
       "    .dataframe tbody tr th:only-of-type {\n",
       "        vertical-align: middle;\n",
       "    }\n",
       "\n",
       "    .dataframe tbody tr th {\n",
       "        vertical-align: top;\n",
       "    }\n",
       "\n",
       "    .dataframe thead th {\n",
       "        text-align: right;\n",
       "    }\n",
       "</style>\n",
       "<table border=\"1\" class=\"dataframe\">\n",
       "  <thead>\n",
       "    <tr style=\"text-align: right;\">\n",
       "      <th></th>\n",
       "      <th>点数</th>\n",
       "    </tr>\n",
       "    <tr>\n",
       "      <th>生徒</th>\n",
       "      <th></th>\n",
       "    </tr>\n",
       "  </thead>\n",
       "  <tbody>\n",
       "    <tr>\n",
       "      <th>A</th>\n",
       "      <td>53</td>\n",
       "    </tr>\n",
       "    <tr>\n",
       "      <th>B</th>\n",
       "      <td>54</td>\n",
       "    </tr>\n",
       "    <tr>\n",
       "      <th>C</th>\n",
       "      <td>48</td>\n",
       "    </tr>\n",
       "    <tr>\n",
       "      <th>D</th>\n",
       "      <td>50</td>\n",
       "    </tr>\n",
       "    <tr>\n",
       "      <th>E</th>\n",
       "      <td>28</td>\n",
       "    </tr>\n",
       "    <tr>\n",
       "      <th>F</th>\n",
       "      <td>58</td>\n",
       "    </tr>\n",
       "    <tr>\n",
       "      <th>G</th>\n",
       "      <td>48</td>\n",
       "    </tr>\n",
       "    <tr>\n",
       "      <th>H</th>\n",
       "      <td>73</td>\n",
       "    </tr>\n",
       "    <tr>\n",
       "      <th>I</th>\n",
       "      <td>46</td>\n",
       "    </tr>\n",
       "    <tr>\n",
       "      <th>J</th>\n",
       "      <td>45</td>\n",
       "    </tr>\n",
       "  </tbody>\n",
       "</table>\n",
       "</div>"
      ],
      "text/plain": [
       "    点数\n",
       "生徒    \n",
       "A   53\n",
       "B   54\n",
       "C   48\n",
       "D   50\n",
       "E   28\n",
       "F   58\n",
       "G   48\n",
       "H   73\n",
       "I   46\n",
       "J   45"
      ]
     },
     "execution_count": 3,
     "metadata": {},
     "output_type": "execute_result"
    }
   ],
   "source": [
    "#それぞれのデータに名前を付ける\n",
    "scores_df = pd.DataFrame({'点数':scores},\n",
    "                         index=pd.Index(['A', 'B', 'C', 'D', 'E',\n",
    "                                         'F', 'G', 'H', 'I', 'J'],\n",
    "                                        name='生徒'))\n",
    "scores_df"
   ]
  },
  {
   "cell_type": "markdown",
   "id": "e39c03b6",
   "metadata": {},
   "source": [
    "csvファイルが読み込めていることを確認できた。\n",
    "\n",
    "次に68％の法則が成り立っているかどうかを確認する。\n",
    "\n",
    "ここで68則を使うためにはデータが正規分布に従っている必要がある。正規分布に準じているかどうかはヒストグラムを見ることで判断が可能であるため、ヒストグラムを作成する。"
   ]
  },
  {
   "cell_type": "code",
   "execution_count": 4,
   "id": "f506a405",
   "metadata": {},
   "outputs": [
    {
     "data": {
      "text/plain": [
       "count    500.00\n",
       "mean      49.16\n",
       "std       14.33\n",
       "min        2.00\n",
       "25%       39.00\n",
       "50%       49.00\n",
       "75%       58.00\n",
       "max       88.00\n",
       "dtype: float64"
      ]
     },
     "execution_count": 4,
     "metadata": {},
     "output_type": "execute_result"
    }
   ],
   "source": [
    "# 500人分の数学の点数のarray\n",
    "math_scores = np.array(df['数学'])\n",
    "# Seriesに変換してdescribeを表示、ここで小数点2ケタにするためにprecisionを2に設定している。\n",
    "pd.set_option('precision', 2)\n",
    "pd.Series(math_scores).describe()"
   ]
  },
  {
   "cell_type": "code",
   "execution_count": 5,
   "id": "b156309d",
   "metadata": {
    "scrolled": true
   },
   "outputs": [
    {
     "data": {
      "image/png": "[encoded data removed]",
      "text/plain": [
       "<Figure size 720x432 with 1 Axes>"
      ]
     },
     "metadata": {
      "needs_background": "light"
     },
     "output_type": "display_data"
    }
   ],
   "source": [
    "%matplotlib inline\n",
    "import matplotlib.pyplot as plt\n",
    "\n",
    "fig = plt.figure(figsize=(10, 6))\n",
    "ax = fig.add_subplot(111)\n",
    "\n",
    "freq, _ , _ = ax.hist(math_scores, bins=100, range=(0, 100))\n",
    "ax.set_xlabel('点数', fontname=\"MS Gothic\")\n",
    "ax.set_ylabel('人数', fontname=\"MS Gothic\")\n",
    "ax.set_xticks(np.linspace(0, 100, 25+1))\n",
    "ax.set_yticks(np.arange(0, freq.max()+1))\n",
    "plt.grid()\n",
    "plt.show()"
   ]
  },
  {
   "cell_type": "markdown",
   "id": "7b2fbf8d",
   "metadata": {},
   "source": [
    "グラフより、このデータはおおよそ正規分布に従っていることが分かる。\n",
    "\n",
    "次に平均$\\pm\\sigma$に含まれるデータが全体の何％を占めているかを計算する。\n",
    "\n",
    "全500個のデータ中、平均$\\pm\\sigma$に含まれるデータ数がいくつあるか計算し、その割合を求めれば良い。"
   ]
  },
  {
   "cell_type": "code",
   "execution_count": 6,
   "id": "c85a6ade",
   "metadata": {
    "scrolled": true
   },
   "outputs": [
    {
     "data": {
      "text/html": [
       "<div>\n",
       "<style scoped>\n",
       "    .dataframe tbody tr th:only-of-type {\n",
       "        vertical-align: middle;\n",
       "    }\n",
       "\n",
       "    .dataframe tbody tr th {\n",
       "        vertical-align: top;\n",
       "    }\n",
       "\n",
       "    .dataframe thead th {\n",
       "        text-align: right;\n",
       "    }\n",
       "</style>\n",
       "<table border=\"1\" class=\"dataframe\">\n",
       "  <thead>\n",
       "    <tr style=\"text-align: right;\">\n",
       "      <th></th>\n",
       "      <th>数学</th>\n",
       "    </tr>\n",
       "    <tr>\n",
       "      <th>生徒番号</th>\n",
       "      <th></th>\n",
       "    </tr>\n",
       "  </thead>\n",
       "  <tbody>\n",
       "    <tr>\n",
       "      <th>1</th>\n",
       "      <td>53</td>\n",
       "    </tr>\n",
       "    <tr>\n",
       "      <th>2</th>\n",
       "      <td>54</td>\n",
       "    </tr>\n",
       "    <tr>\n",
       "      <th>3</th>\n",
       "      <td>48</td>\n",
       "    </tr>\n",
       "    <tr>\n",
       "      <th>4</th>\n",
       "      <td>50</td>\n",
       "    </tr>\n",
       "    <tr>\n",
       "      <th>5</th>\n",
       "      <td>28</td>\n",
       "    </tr>\n",
       "    <tr>\n",
       "      <th>...</th>\n",
       "      <td>...</td>\n",
       "    </tr>\n",
       "    <tr>\n",
       "      <th>496</th>\n",
       "      <td>72</td>\n",
       "    </tr>\n",
       "    <tr>\n",
       "      <th>497</th>\n",
       "      <td>31</td>\n",
       "    </tr>\n",
       "    <tr>\n",
       "      <th>498</th>\n",
       "      <td>66</td>\n",
       "    </tr>\n",
       "    <tr>\n",
       "      <th>499</th>\n",
       "      <td>50</td>\n",
       "    </tr>\n",
       "    <tr>\n",
       "      <th>500</th>\n",
       "      <td>36</td>\n",
       "    </tr>\n",
       "  </tbody>\n",
       "</table>\n",
       "<p>500 rows × 1 columns</p>\n",
       "</div>"
      ],
      "text/plain": [
       "      数学\n",
       "生徒番号    \n",
       "1     53\n",
       "2     54\n",
       "3     48\n",
       "4     50\n",
       "5     28\n",
       "...   ..\n",
       "496   72\n",
       "497   31\n",
       "498   66\n",
       "499   50\n",
       "500   36\n",
       "\n",
       "[500 rows x 1 columns]"
      ]
     },
     "execution_count": 6,
     "metadata": {},
     "output_type": "execute_result"
    }
   ],
   "source": [
    "df"
   ]
  },
  {
   "cell_type": "code",
   "execution_count": 7,
   "id": "2d76e1a9",
   "metadata": {
    "scrolled": true
   },
   "outputs": [
    {
     "data": {
      "text/html": [
       "<div>\n",
       "<style scoped>\n",
       "    .dataframe tbody tr th:only-of-type {\n",
       "        vertical-align: middle;\n",
       "    }\n",
       "\n",
       "    .dataframe tbody tr th {\n",
       "        vertical-align: top;\n",
       "    }\n",
       "\n",
       "    .dataframe thead th {\n",
       "        text-align: right;\n",
       "    }\n",
       "</style>\n",
       "<table border=\"1\" class=\"dataframe\">\n",
       "  <thead>\n",
       "    <tr style=\"text-align: right;\">\n",
       "      <th></th>\n",
       "      <th>数学</th>\n",
       "    </tr>\n",
       "    <tr>\n",
       "      <th>生徒番号</th>\n",
       "      <th></th>\n",
       "    </tr>\n",
       "  </thead>\n",
       "  <tbody>\n",
       "    <tr>\n",
       "      <th>1</th>\n",
       "      <td>53</td>\n",
       "    </tr>\n",
       "    <tr>\n",
       "      <th>2</th>\n",
       "      <td>54</td>\n",
       "    </tr>\n",
       "    <tr>\n",
       "      <th>3</th>\n",
       "      <td>48</td>\n",
       "    </tr>\n",
       "    <tr>\n",
       "      <th>4</th>\n",
       "      <td>50</td>\n",
       "    </tr>\n",
       "    <tr>\n",
       "      <th>6</th>\n",
       "      <td>58</td>\n",
       "    </tr>\n",
       "    <tr>\n",
       "      <th>...</th>\n",
       "      <td>...</td>\n",
       "    </tr>\n",
       "    <tr>\n",
       "      <th>492</th>\n",
       "      <td>37</td>\n",
       "    </tr>\n",
       "    <tr>\n",
       "      <th>494</th>\n",
       "      <td>37</td>\n",
       "    </tr>\n",
       "    <tr>\n",
       "      <th>495</th>\n",
       "      <td>49</td>\n",
       "    </tr>\n",
       "    <tr>\n",
       "      <th>499</th>\n",
       "      <td>50</td>\n",
       "    </tr>\n",
       "    <tr>\n",
       "      <th>500</th>\n",
       "      <td>36</td>\n",
       "    </tr>\n",
       "  </tbody>\n",
       "</table>\n",
       "<p>346 rows × 1 columns</p>\n",
       "</div>"
      ],
      "text/plain": [
       "      数学\n",
       "生徒番号    \n",
       "1     53\n",
       "2     54\n",
       "3     48\n",
       "4     50\n",
       "6     58\n",
       "...   ..\n",
       "492   37\n",
       "494   37\n",
       "495   49\n",
       "499   50\n",
       "500   36\n",
       "\n",
       "[346 rows x 1 columns]"
      ]
     },
     "execution_count": 7,
     "metadata": {},
     "output_type": "execute_result"
    }
   ],
   "source": [
    "ave1 = df[(df['数学'] < 49.16 + 14.33) & (df['数学'] > 49.16 - 14.33)]\n",
    "ave1"
   ]
  },
  {
   "cell_type": "code",
   "execution_count": 8,
   "id": "5b91dee7",
   "metadata": {},
   "outputs": [
    {
     "data": {
      "text/plain": [
       "69.19999999999999"
      ]
     },
     "execution_count": 8,
     "metadata": {},
     "output_type": "execute_result"
    }
   ],
   "source": [
    "346 / 500 * 100"
   ]
  },
  {
   "cell_type": "markdown",
   "id": "d473da8e",
   "metadata": {},
   "source": [
    "よって平均$\\pm\\sigma$に含まれるデータは全体の69.2％を占めている。つまり68％ルールは成り立っているといえる。\n",
    "\n",
    "正規分布に従うデータではこのルールによって、ある程度の正確性を持つ予測を立てる事が可能になっている。\n",
    "\n",
    "またこの数値から母数データが正規分布に従っているかどうかを判断することも出来る。\n",
    "\n",
    "標準偏差はデータを扱う上で非常に便利な性質を持っている事が分かった。"
   ]
  },
  {
   "cell_type": "code",
   "execution_count": null,
   "id": "8ce9415d",
   "metadata": {},
   "outputs": [],
   "source": []
  }
 ],
 "metadata": {
  "kernelspec": {
   "display_name": "Python 3",
   "language": "python",
   "name": "python3"
  },
  "language_info": {
   "codemirror_mode": {
    "name": "ipython",
    "version": 3
   },
   "file_extension": ".py",
   "mimetype": "text/x-python",
   "name": "python",
   "nbconvert_exporter": "python",
   "pygments_lexer": "ipython3",
   "version": "3.8.8"
  }
 },
 "nbformat": 4,
 "nbformat_minor": 5
}
