{
 "cells": [
  {
   "cell_type": "markdown",
   "id": "2394f705",
   "metadata": {},
   "source": [
    "# サイコロをふり、その結果を用いて統計用語を説明する"
   ]
  },
  {
   "cell_type": "markdown",
   "id": "2d870394",
   "metadata": {},
   "source": [
    "### もしサイコロを知らない世界になったらあなたはサイコロをどう説明するだろうか。\n",
    "### 何度もサイコロを振ることでしかサイコロに対する考察を行えない際にサイコロの特性について何が言えるだろうか？"
   ]
  },
  {
   "cell_type": "markdown",
   "id": "85204cf0",
   "metadata": {},
   "source": [
    "## (Ⅰ)　10回サイコロを振るときの期待値と結果を調べる"
   ]
  },
  {
   "cell_type": "markdown",
   "id": "efd6370e",
   "metadata": {},
   "source": [
    "10回サイコロを振り、その結果をグラフ化する"
   ]
  },
  {
   "cell_type": "code",
   "execution_count": 1,
   "id": "ee67741e",
   "metadata": {},
   "outputs": [],
   "source": [
    "# matplotlib をインラインで使用することを指定する\n",
    "%matplotlib inline\n",
    "# ライブラリの読み込み\n",
    "import matplotlib.pyplot as plt\n",
    "import random\n",
    "#出る目を固定\n",
    "random.seed(1)"
   ]
  },
  {
   "cell_type": "code",
   "execution_count": 2,
   "id": "fff14b08",
   "metadata": {},
   "outputs": [],
   "source": [
    "#サイコロを振る回数、今回は10回\n",
    "appearances = []\n",
    "try_num = 10"
   ]
  },
  {
   "cell_type": "code",
   "execution_count": 3,
   "id": "aa028666",
   "metadata": {},
   "outputs": [],
   "source": [
    "#サイコロの目は1-6の範囲であるから1-6の間で数値が与えられるように\n",
    "for i in range(try_num):\n",
    "    appearances.append(random.randint(1,6))"
   ]
  },
  {
   "cell_type": "code",
   "execution_count": 4,
   "id": "48a22ed1",
   "metadata": {},
   "outputs": [
    {
     "name": "stdout",
     "output_type": "stream",
     "text": [
      "3.4\n"
     ]
    }
   ],
   "source": [
    "#平均値を求める\n",
    "average = sum(appearances) / len(appearances)\n",
    "print(average)"
   ]
  },
  {
   "cell_type": "markdown",
   "id": "bf174420",
   "metadata": {},
   "source": [
    "10回サイコロを振った時に出る目の期待値が3.4になる事が分かった。\n",
    "結果をグラフで可視化してみると"
   ]
  },
  {
   "cell_type": "code",
   "execution_count": 5,
   "id": "12c81f72",
   "metadata": {
    "scrolled": true
   },
   "outputs": [
    {
     "data": {
      "image/png": "[encoded data removed]",
      "text/plain": [
       "<Figure size 432x288 with 1 Axes>"
      ]
     },
     "metadata": {
      "needs_background": "light"
     },
     "output_type": "display_data"
    }
   ],
   "source": [
    "#結果の棒グラフ、こちらは一目見た時にどの目がどれほど出たかが分かりやすい\n",
    "plt.hist(appearances, bins=20)\n",
    "plt.show()"
   ]
  },
  {
   "cell_type": "code",
   "execution_count": 6,
   "id": "9c9ef5c4",
   "metadata": {},
   "outputs": [
    {
     "data": {
      "image/png": "[encoded data removed]",
      "text/plain": [
       "<Figure size 432x288 with 1 Axes>"
      ]
     },
     "metadata": {},
     "output_type": "display_data"
    }
   ],
   "source": [
    "#結果の円グラフ、こちらはそれぞれの目の出る割合が分かりやすい\n",
    "rate = []\n",
    "for i in range(1,7):\n",
    "    rate.append(appearances.count(i) / try_num)\n",
    "#円グラフの設定\n",
    "label = [\"1\",\"2\",\"3\",\"4\",\"5\",\"6\"]\n",
    "plt.subplot(121)\n",
    "plt.pie(rate,labels=label,autopct=\"%.2f%%\",startangle=90,counterclock=False)\n",
    "plt.show()"
   ]
  },
  {
   "cell_type": "markdown",
   "id": "8fa79dbe",
   "metadata": {},
   "source": [
    "### よってサイコロは4が多く出るものであり、またサイコロの出る目の期待値も3.5より小さくなることも分かった。\n",
    "\n",
    "しかしこれは本当なのであろうか？\n",
    "\n",
    "同じ試行を今度は1000000回行ってみる。"
   ]
  },
  {
   "cell_type": "markdown",
   "id": "8eaac451",
   "metadata": {},
   "source": [
    "## (Ⅱ)　1000000回サイコロを振るときの期待値と結果を調べる"
   ]
  },
  {
   "cell_type": "markdown",
   "id": "050d3de1",
   "metadata": {},
   "source": [
    "1000000回サイコロを振り、その結果をグラフ化する。先ほどと同様にして行う。"
   ]
  },
  {
   "cell_type": "code",
   "execution_count": null,
   "id": "a1c571cd",
   "metadata": {
    "scrolled": true
   },
   "outputs": [],
   "source": [
    "try_num = 1000000 \n",
    "for i in range(try_num):\n",
    "    appearances.append(random.randint(1,6))\n",
    "average = sum(appearances) / len(appearances)\n",
    "print(average)\n",
    "\n",
    "plt.figure()\n",
    "plt.subplot(121)\n",
    "plt.hist(appearances, bins=100)\n",
    "\n",
    "rate = []\n",
    "for i in range(1,7):\n",
    "    rate.append(appearances.count(i) / try_num)\n",
    "label = [\"1\",\"2\",\"3\",\"4\",\"5\",\"6\"]\n",
    "plt.subplot(122)\n",
    "plt.pie(rate,labels=label,autopct=\"%.2f%%\",startangle=90,counterclock=False)\n",
    "plt.show()"
   ]
  },
  {
   "cell_type": "markdown",
   "id": "f73287b8",
   "metadata": {},
   "source": [
    "平均値は3.5に近づきそれぞれの目が出る確率もほとんど等しくなっている。\n",
    "\n",
    "\n",
    "### この結果からサイコロという物体は1~6の目が同じ確率で出る、という特性を持っていることが分かった。"
   ]
  },
  {
   "cell_type": "markdown",
   "id": "169de52d",
   "metadata": {},
   "source": [
    "## （Ⅲ）結論"
   ]
  },
  {
   "cell_type": "markdown",
   "id": "7f9f71b9",
   "metadata": {},
   "source": [
    "どちらの推測がより正確であったかについて考える。\n",
    "\n",
    "勿論我々はサイコロを知っているので、10回分の結果に比べ1000000回分の結果が理想に近い結果だという事が分かっている。\n",
    "\n",
    "では未知の現象の特性を推測する事を考える。\n",
    "\n",
    "10回分の結果と1000000回分の結果ではどちらの方が正しい推測が出来るだろうか。\n",
    "\n",
    "恐らくその場合でも1000000回の方が理想に近い結果になるだろう。未知の物体に対してもある程度の数のデータとその特徴が分かっている方がその現象自体の特性の推測も行える。"
   ]
  },
  {
   "cell_type": "markdown",
   "id": "80375ef4",
   "metadata": {},
   "source": [
    "### これが簡単な帰納的統計のイメージである。\n",
    "### ある程度の数があり、かつバラツキのあるデータから未知の物体や現象の特性を求める、これが統計学を行う目的である。"
   ]
  },
  {
   "cell_type": "markdown",
   "id": "ca16298b",
   "metadata": {},
   "source": [
    "統計学では、特徴を求めたい大きなデータの集合全体の事を「母集団」、母集団の情報を推測するために選ばれた一部の集団の事を「標本」という。"
   ]
  },
  {
   "cell_type": "markdown",
   "id": "501df76a",
   "metadata": {},
   "source": [
    "参考文献:https://www.albert2005.co.jp/knowledge/statistics_analysis/statistics_basics/statistics"
   ]
  }
 ],
 "metadata": {
  "kernelspec": {
   "display_name": "Python 3",
   "language": "python",
   "name": "python3"
  },
  "language_info": {
   "codemirror_mode": {
    "name": "ipython",
    "version": 3
   },
   "file_extension": ".py",
   "mimetype": "text/x-python",
   "name": "python",
   "nbconvert_exporter": "python",
   "pygments_lexer": "ipython3",
   "version": "3.8.8"
  }
 },
 "nbformat": 4,
 "nbformat_minor": 5
}
