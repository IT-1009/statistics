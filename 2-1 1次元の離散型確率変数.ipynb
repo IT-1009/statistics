{
 "cells": [
  {
   "cell_type": "markdown",
   "id": "1ad0a52e-9f2a-46a0-89a5-1e9ba8d3689c",
   "metadata": {},
   "source": [
    "<!--### 連続型確率変数\n",
    "連続型確率変数はとりうる値が連続的な確率変数のことをいう. 「身長」のように168.419819615…cmと小数点以下の値をどこまでも細かくできるのが連続型確率変数である.\n",
    "# グラフの線の種類\n",
    "linestyles = ['-', '--', ':']\n",
    "-->\n",
    "<!--\n",
    "-->"
   ]
  },
  {
   "cell_type": "markdown",
   "id": "a6cca3fa-073f-48b4-9ab7-c43650ab698e",
   "metadata": {},
   "source": [
    "### 1次元の離散型確率変数とは"
   ]
  },
  {
   "cell_type": "markdown",
   "id": "e95d2da9-4cee-48bb-b546-0503508bcb51",
   "metadata": {},
   "source": [
    "### 離散型確率変数\n",
    "離散型確率変数はとりうる値が離散的な確率変数のことをいう.「サイコロの目」のように1,2,3…ととびとびの値をとるのが離散型確率変数である."
   ]
  },
  {
   "cell_type": "markdown",
   "id": "fb914a37-82eb-4837-b085-74986b43b7dc",
   "metadata": {},
   "source": [
    "### 確率質量関数\n",
    "離散型確率変数の場合は、確率変数Xの取りうる値の集合を｛$x_{1}$,$x_{2}$,$x_{3}$, …,｝として、確率変数Xが$x_{k}$という値をとる確率を<br> $$　P(X = x_{k}) = p_{k}(k = 1,2,…) $$と定義できる. このとき確率はとりうる値$x_{i}$を因数にとる関数とみることもできるため、<br> $$　f(x) = P(X = x_{i}) $$となる関数$f(x)$と考える事ができ、それを確率質量関数（probability mass function, PMF）、または確率関数と呼ぶ. とりうる値とその確率の具体的な対応が確率分布と呼ばれるもので、確率変数の確率分布が決まることで、その確率変数の振る舞いが定まることになる. "
   ]
  },
  {
   "cell_type": "markdown",
   "id": "48562d0f-8947-483d-a5f9-cb9ee1ad69a8",
   "metadata": {
    "tags": []
   },
   "source": [
    "***"
   ]
  },
  {
   "cell_type": "markdown",
   "id": "61bad66a-f380-4ea6-b80b-294deb358297",
   "metadata": {},
   "source": [
    "### ベルヌーイ分布\n",
    "ベルヌーイ分布は基本的な離散型確率分布であり、取りうる値が0と1しかない確率分布である. ベルヌーイ分布に従う確率変数の試行の事をベルヌーイ分布という. 取りうる値が2つしかないため、どちらかの確率が定まればもう一方も自動的に定まる. つまりベルヌーイ分布では1が出る確率をpとすると0が出る確率を1-pと表せる. $x$をベルヌーイ分布に従う確率変数とすると\n",
    "\\begin{equation}\n",
    "P(x)＝\n",
    "\\begin{cases}\n",
    "  p^{x}(1-p)^{1-x} & (x \\in {0,1})\\\\\\\n",
    "  0 & (otherwise)\n",
    "\\end{cases}\n",
    "\\end{equation}\n",
    "と表せる. とりうる値が2通りしかないものは全てベルヌーイ分布で考えることができる. ベルヌーイ分布における期待値E(X)と分散V(X)は$　E(X) = p、V(X)=p(1-p) $と表せる."
   ]
  },
  {
   "cell_type": "markdown",
   "id": "7ae19e73-ac38-45d9-b108-b710d6eef843",
   "metadata": {},
   "source": [
    "***"
   ]
  },
  {
   "cell_type": "markdown",
   "id": "f5bf642c-1eb7-42be-b68d-0c4ab3c28519",
   "metadata": {},
   "source": [
    "まず、ベルヌーイ分布の例としてコインを投げることを考える. 表と裏の出る確率が等しい普通のコインを投げて、表が出たら1、裏が出たら0とする. 離散型確率分布の性質を確認するため、いくつかの関数をあらかじめ用意しておく. E(X)は期待値、V(X)は分散の関数である. check_probは確率変数を因数に、その確率変数の確率関数と期待値を図示するための関数である."
   ]
  },
  {
   "cell_type": "code",
   "execution_count": null,
   "id": "861b6a73-f852-4d55-a302-55e890e09684",
   "metadata": {},
   "outputs": [],
   "source": [
    "import numpy as np\n",
    "import matplotlib.pyplot as plt\n",
    "from scipy import stats\n",
    "%precision 2"
   ]
  },
  {
   "cell_type": "markdown",
   "id": "313576f7-20a9-454c-bd0b-8f30cf29b9ec",
   "metadata": {},
   "source": [
    "<!-- \n",
    "数値をg(x_k)、その値の確率をf(x_k)\n",
    "g(x_k) * f(x_k)は1が出る確率が0.1のとき、1 * 0.1 みたいなことを行う\n",
    "ちなみにこの問題ではx_kを変数として使っているが全然x_kである必要性はなく、x_iとかでも動く\n",
    "g=lambda x: x　これはg()をg(x)とする定義\n",
    "なぜ分散の時とかにgの関数を使わなければいけないのかは全く分からない、無名関数だからこそ、定数と違ってなくても許されるのかも？\n",
    "\n",
    "Xはその値が出る確率\n",
    "x_setはその値が出る確率分布、例えばベルヌーイ分布ではx_set=[0, 1]\n",
    "x_kは0～setのところまで計算を連続して行う（多分）\n",
    "probは確率のこと、prob = np.array([f(x_k) for x_k in x_set])ではそれぞれの”数字”発生における確率\n",
    "np.allは条件確認を行う関数、一つでも条件を満たせなければ次に指定されたプログラムを実行する\n",
    "assert np.all(prob >= 0), 'error'はnp.allでprobが >= 0を満たしていなければ'error'を出力する\n",
    "---Pythonのassert文は、基本的には、条件をテストするデバッグ支援ツールです。アサーションの条件がTrueの場合は何も起きず、プログラムは何事もなく動作し続けます。しかし、アサーションの条件がFalseと評価された場合はAssertionError例外が送出され、必要に応じてエラーメッセージが生成されます。---Pythonで本当に役立つ機能「アサーション」の使い方を解説！『Pythonトリック』から\n",
    "np.round(np.sum(prob), 6)　は小数点6ケタで偶数丸めをしている\n",
    "print(f'期待値:{E(X):.4}') のf''はこれで文字列（期待値）の部分も同時に出力することができる、必要である\n",
    "\n",
    "-->"
   ]
  },
  {
   "cell_type": "code",
   "execution_count": null,
   "id": "4f7ebe29-ced1-414c-b3ac-591e46ba658f",
   "metadata": {},
   "outputs": [],
   "source": [
    "#期待値を求める関数\n",
    "def E(X, g=lambda x: x):\n",
    "    x_set, f = X\n",
    "    return np.sum([g(x_k) * f(x_k) for x_k in x_set])"
   ]
  },
  {
   "cell_type": "code",
   "execution_count": null,
   "id": "3c4de30b-9d57-404d-b82c-4dd6a9db0831",
   "metadata": {},
   "outputs": [],
   "source": [
    "#分散を求める関数\n",
    "def V(X, g=lambda x: x):\n",
    "    x_set, f = X\n",
    "    mean = E(X, g)\n",
    "    return np.sum([(g(x_k)-mean)**2 * f(x_k) for x_k in x_set])"
   ]
  },
  {
   "cell_type": "code",
   "execution_count": null,
   "id": "00d1f047-1393-400f-b1d1-a6eb8fe76b77",
   "metadata": {},
   "outputs": [],
   "source": [
    "def check_prob(X):\n",
    "    x_set, f = X\n",
    "    prob = np.array([f(x_k) for x_k in x_set])\n",
    "    assert np.all(prob >= 0), '負の確率が入っています'\n",
    "    prob_sum = np.round(np.sum(prob), 6)\n",
    "    assert prob_sum == 1, f'確率の総和が:{prob_sum}になっています'\n",
    "    print(f'期待値:{E(X):.2}')\n",
    "    print(f'分散:{(V(X)):.2}')"
   ]
  },
  {
   "cell_type": "code",
   "execution_count": null,
   "id": "a22893fa-dcb5-409a-a30a-1e3fc7b809b3",
   "metadata": {},
   "outputs": [],
   "source": [
    "def plot_prob(X):\n",
    "    x_set, f = X\n",
    "    prob = np.array([f(x_k) for x_k in x_set])\n",
    "    fig = plt.figure(figsize=(10, 6))\n",
    "    ax = fig.add_subplot(111)\n",
    "    ax.bar(x_set, prob, label='確率')\n",
    "    ax.vlines(E(X), 0, 1, label='期待値')\n",
    "#    ax.set_xlabel('とりうる値', fontname=\"MS Gothic\")\n",
    "#    ax.set_ylabel('確率', fontname=\"MS Gothic\")\n",
    "    ax.set_xticks(np.append(x_set, E(X)))\n",
    "    ax.legend(prop = {\"family\" : \"MS Gothic\"})\n",
    "    plt.show()"
   ]
  },
  {
   "cell_type": "code",
   "execution_count": null,
   "id": "e7ea94d2-1c4b-4498-8ca1-9b48712876f8",
   "metadata": {},
   "outputs": [],
   "source": [
    "def Bern(p):\n",
    "    x_set = np.array([0, 1])\n",
    "    def f(x):\n",
    "        if x in x_set:\n",
    "            return p ** x * (1-p) ** (1-x)\n",
    "        else:\n",
    "            return 0\n",
    "    return x_set, f"
   ]
  },
  {
   "cell_type": "code",
   "execution_count": null,
   "id": "5c8c7cfe-ca0a-4b9f-96b8-1a24e68994fc",
   "metadata": {},
   "outputs": [],
   "source": [
    "p = 0.5\n",
    "X = Bern(p)"
   ]
  },
  {
   "cell_type": "code",
   "execution_count": null,
   "id": "b2a1538a-de77-4150-a97f-9d80d3da9793",
   "metadata": {},
   "outputs": [],
   "source": [
    "check_prob(X)\n",
    "plot_prob(X)"
   ]
  },
  {
   "cell_type": "markdown",
   "id": "68eb2f68-c97e-4578-85c4-c87401c2f07a",
   "metadata": {},
   "source": [
    "<!--# グラフの線の種類\n",
    "linestyles = ['-', '--', ':']\n",
    "\n",
    "def E(X, g=lambda x: x):\n",
    "    x_set, f = X\n",
    "    return np.sum([g(x_k) * f(x_k) for x_k in x_set])\n",
    "\n",
    "def V(X, g=lambda x: x):\n",
    "    x_set, f = X\n",
    "    mean = E(X, g)\n",
    "    return np.sum([(g(x_k)-mean)**2 * f(x_k) for x_k in x_set])\n",
    "\n",
    "def check_prob(X):\n",
    "    x_set, f = X\n",
    "    prob = np.array([f(x_k) for x_k in x_set])\n",
    "    assert np.all(prob >= 0), '負の確率があります'\n",
    "    prob_sum = np.round(np.sum(prob), 6)\n",
    "    assert prob_sum == 1, f'確率の和が{prob_sum}になりました'\n",
    "    print(f'期待値は{E(X):.4}')\n",
    "    print(f'分散は{(V(X)):.4}')\n",
    "\n",
    "def plot_prob(X):\n",
    "    x_set, f = X\n",
    "    prob = np.array([f(x_k) for x_k in x_set])\n",
    "    \n",
    "    fig = plt.figure(figsize=(10, 6))\n",
    "    ax = fig.add_subplot(111)\n",
    "    ax.bar(x_set, prob, label='prob')\n",
    "    ax.vlines(E(X), 0, 1, label='mean')\n",
    "    ax.set_xticks(np.append(x_set, E(X)))\n",
    "    ax.set_ylim(0, prob.max()*1.2)\n",
    "    ax.legend()\n",
    "    \n",
    "    plt.show()\n",
    "\n",
    "def Bern(p):\n",
    "    x_set = np.array([0, 1])\n",
    "    def f(x):\n",
    "        if x in x_set:\n",
    "            return p ** x * (1-p) ** (1-x)\n",
    "        else:\n",
    "            return 0\n",
    "    return x_set, f\n",
    "p = 0.3\n",
    "X = Bern(p)\n",
    "check_prob(X)\n",
    "\n",
    "plot_prob(X)\n",
    "-->"
   ]
  },
  {
   "cell_type": "code",
   "execution_count": null,
   "id": "7dbe542b-fa14-4ee8-a77c-d08a067539b7",
   "metadata": {},
   "outputs": [],
   "source": []
  }
 ],
 "metadata": {
  "kernelspec": {
   "display_name": "Python 3",
   "language": "python",
   "name": "python3"
  },
  "language_info": {
   "codemirror_mode": {
    "name": "ipython",
    "version": 3
   },
   "file_extension": ".py",
   "mimetype": "text/x-python",
   "name": "python",
   "nbconvert_exporter": "python",
   "pygments_lexer": "ipython3",
   "version": "3.8.8"
  }
 },
 "nbformat": 4,
 "nbformat_minor": 5
}
