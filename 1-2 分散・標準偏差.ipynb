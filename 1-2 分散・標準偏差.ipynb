{
 "cells": [
  {
   "cell_type": "markdown",
   "id": "289d2098",
   "metadata": {},
   "source": [
    "# 1-2 分散・標準偏差\n",
    "\n",
    "分散や標準偏差が表す意味をグラフなどで直感的に学ぶ"
   ]
  },
  {
   "cell_type": "markdown",
   "id": "7c2ee1e5",
   "metadata": {},
   "source": [
    "統計における分散とはデータのばらつきを表す指標である。分散はそれぞれの数値と平均値の差である偏差を二乗し、平均を取ったものである。分散$\\sigma^2$は次の式で求められる。"
   ]
  },
  {
   "cell_type": "markdown",
   "id": "8c73be12",
   "metadata": {},
   "source": [
    "\\begin{equation}\n",
    "\\ \\sigma^2 = \\frac{1}{n}  \\sum^{n}_{n=1} (x_{i} - \\bar{x})^2\n",
    "\\end{equation}"
   ]
  },
  {
   "cell_type": "markdown",
   "id": "0944927f",
   "metadata": {},
   "source": [
    "$n$はデータの総数、$x_{i}$は各数値、$\\bar{x}$は平均値を表す。"
   ]
  },
  {
   "cell_type": "markdown",
   "id": "bf64f4ee",
   "metadata": {},
   "source": [
    "標準偏差も分散と同じく、データのばらつきを表す指標になっている。標準偏差は各データが平均値から標準的に離れている値を表していて、分散は標準偏差を二乗したものである。標準偏差$\\sigma$は次の式で求められる。"
   ]
  },
  {
   "cell_type": "markdown",
   "id": "b7496b64",
   "metadata": {},
   "source": [
    "\\begin{equation}\n",
    "\\ \\sigma = \\sqrt {\\sigma^2} = \\sqrt {\\frac{1}{n}  \\sum^{n}_{n=1} (x_{i} - \\bar{x})^2}\n",
    "\\end{equation}"
   ]
  },
  {
   "cell_type": "markdown",
   "id": "01330c0e",
   "metadata": {},
   "source": [
    "$n$はデータの総数、$x_{i}$は各数値、$\\bar{x}$は平均値を表す。"
   ]
  },
  {
   "cell_type": "markdown",
   "id": "89c5e5e3",
   "metadata": {},
   "source": [
    "ここまでで定義を説明した。しかし、いざ実際に分散や標準偏差を求めても、その値がどれほどの範囲での散らばりを表現したものなのかが直感的に分かりづらい。そのため今回は、サイコロを2回振り、それぞれの出た目の合計をグラフ化する。そしてそこから分散や標準偏差が表しているもの視覚的な点からも理解する。"
   ]
  },
  {
   "cell_type": "markdown",
   "id": "b6d0f8f0",
   "metadata": {},
   "source": [
    "### （Ⅰ）分散・標準偏差の計算\n",
    "まずはサイコロを作成する。今回はダイスの目を配列で扱う。理由はのちに説明する。"
   ]
  },
  {
   "cell_type": "code",
   "execution_count": 1,
   "id": "fcd4ce7a",
   "metadata": {},
   "outputs": [],
   "source": [
    "import numpy as np\n",
    "import matplotlib.pyplot as plt\n",
    "import random\n",
    "dice = [1, 2, 3, 4, 5, 6]"
   ]
  },
  {
   "cell_type": "code",
   "execution_count": 2,
   "id": "4e4dd312",
   "metadata": {},
   "outputs": [],
   "source": [
    "#2つのサイコロで1~6の目をランダムに10000回出す\n",
    "num_trial = 10000\n",
    "normal = np.random.choice(dice, num_trial)\n",
    "normal2 = np.random.choice(dice, num_trial)"
   ]
  },
  {
   "cell_type": "code",
   "execution_count": 3,
   "id": "5cc4c192",
   "metadata": {},
   "outputs": [],
   "source": [
    "#2つの目の合計をnormalSとする\n",
    "normalS = normal + normal2"
   ]
  },
  {
   "cell_type": "code",
   "execution_count": 4,
   "id": "19ae8bcb",
   "metadata": {},
   "outputs": [
    {
     "name": "stdout",
     "output_type": "stream",
     "text": [
      "6.9972\n"
     ]
    },
    {
     "data": {
      "image/png": "[encoded data removed]",
      "text/plain": [
       "<Figure size 432x288 with 1 Axes>"
      ]
     },
     "metadata": {
      "needs_background": "light"
     },
     "output_type": "display_data"
    }
   ],
   "source": [
    "average = sum(normalS) / len(normalS)\n",
    "print(average)\n",
    "plt.hist(normalS, bins=50)\n",
    "plt.show()"
   ]
  },
  {
   "cell_type": "markdown",
   "id": "f819a2e8",
   "metadata": {},
   "source": [
    "得られた平均値は6.9771になった。サイコロを2つ投げて出た目の和の平均値は7であるから、結果よりこのグラフはある程度正確であることが予想できる。\n",
    "このグラフは綺麗な三角形をしている。平均値である7が出やすく、また7から同じだけ離れている2・12に近い値ほど、その値は出づらい。つまりこのグラフは偏りが無いグラフであることが分かる。\n",
    "このグラフにおける分散や標準偏差は以下のようである。"
   ]
  },
  {
   "cell_type": "code",
   "execution_count": 5,
   "id": "098680e3",
   "metadata": {},
   "outputs": [
    {
     "data": {
      "text/plain": [
       "5.89399216"
      ]
     },
     "execution_count": 5,
     "metadata": {},
     "output_type": "execute_result"
    }
   ],
   "source": [
    "#分散\n",
    "np.var(normalS)"
   ]
  },
  {
   "cell_type": "code",
   "execution_count": 6,
   "id": "7fc78e5e",
   "metadata": {},
   "outputs": [
    {
     "data": {
      "text/plain": [
       "2.4277545510203455"
      ]
     },
     "execution_count": 6,
     "metadata": {},
     "output_type": "execute_result"
    }
   ],
   "source": [
    "#標準偏差\n",
    "np.sqrt(np.var(normalS,ddof=0))"
   ]
  },
  {
   "cell_type": "markdown",
   "id": "54f3be80",
   "metadata": {},
   "source": [
    "分散や標準偏差の値が分かったが、普段統計を使わない人に突然「この値がデータのばらつきを表している。」と説明してもやはり何を評価したものなのか分からないだろう。そこでもう1つグラフを作り、それと比較することにする。"
   ]
  },
  {
   "cell_type": "markdown",
   "id": "0b633157",
   "metadata": {},
   "source": [
    "今度は普通のサイコロではなく、出る目に偏りがあるイカサマのサイコロを作成する。得られる結果を変化させることで平均値や期待値の偏りも変化するのでそこに着目する。"
   ]
  },
  {
   "cell_type": "code",
   "execution_count": 7,
   "id": "ec5a3e4c",
   "metadata": {},
   "outputs": [],
   "source": [
    "#確率の設定。それぞれの目に対して配列の位置が対応している。ここでは６の目が8/21の確率で出ることとなる。\n",
    "prob = [1/21, 1/21, 1/21, 5/21, 5/21, 8/21]\n",
    "num_trial = 10000\n",
    "ikasama = np.random.choice(dice, num_trial, p=prob)\n",
    "ikasama2 = np.random.choice(dice, num_trial, p=prob)"
   ]
  },
  {
   "cell_type": "code",
   "execution_count": 8,
   "id": "5608480a",
   "metadata": {},
   "outputs": [],
   "source": [
    "ikasamaS = ikasama + ikasama2"
   ]
  },
  {
   "cell_type": "code",
   "execution_count": 9,
   "id": "fe1ed332",
   "metadata": {},
   "outputs": [
    {
     "name": "stdout",
     "output_type": "stream",
     "text": [
      "9.4122\n"
     ]
    },
    {
     "data": {
      "image/png": "[encoded data removed]",
      "text/plain": [
       "<Figure size 432x288 with 1 Axes>"
      ]
     },
     "metadata": {
      "needs_background": "light"
     },
     "output_type": "display_data"
    }
   ],
   "source": [
    "average = sum(ikasamaS) / len(ikasamaS)\n",
    "print(average)\n",
    "plt.hist(ikasamaS, bins=50)\n",
    "plt.show()"
   ]
  },
  {
   "cell_type": "markdown",
   "id": "7cd70c3e",
   "metadata": {},
   "source": [
    "得られた平均値は9.4023になった。イカサマサイコロを2つ投げて出る目の和の期待値は9.4であるから、結果よりこのグラフはある程度正確であることが予想できる。\n",
    "このグラフは一目で偏りがあるグラフであることが分かる。明らかに7以上が出やすく、また2よりも12が出やすいことが一目で分かる。\n",
    "このグラフにおける分散や標準偏差は以下のようである。"
   ]
  },
  {
   "cell_type": "code",
   "execution_count": 10,
   "id": "b4293f88",
   "metadata": {},
   "outputs": [
    {
     "data": {
      "text/plain": [
       "3.71949116"
      ]
     },
     "execution_count": 10,
     "metadata": {},
     "output_type": "execute_result"
    }
   ],
   "source": [
    "#分散\n",
    "np.var(ikasamaS)"
   ]
  },
  {
   "cell_type": "code",
   "execution_count": 11,
   "id": "a68ae9ea",
   "metadata": {},
   "outputs": [
    {
     "data": {
      "text/plain": [
       "1.928598237062349"
      ]
     },
     "execution_count": 11,
     "metadata": {},
     "output_type": "execute_result"
    }
   ],
   "source": [
    "#標準偏差\n",
    "np.sqrt(np.var(ikasamaS,ddof=0))"
   ]
  },
  {
   "cell_type": "markdown",
   "id": "f43ef34b",
   "metadata": {},
   "source": [
    "1個目のデータから得られた分散や標準偏差の値に比べ、こちらの値は小さくなったことが分かる。\n",
    "このことから何が言えるか。さらに、比較しやすいように2つのグラフを重ねたものも作成してみる。"
   ]
  },
  {
   "cell_type": "code",
   "execution_count": 12,
   "id": "f9f1d462",
   "metadata": {},
   "outputs": [
    {
     "data": {
      "image/png": "[encoded data removed]",
      "text/plain": [
       "<Figure size 432x288 with 1 Axes>"
      ]
     },
     "metadata": {
      "needs_background": "light"
     },
     "output_type": "display_data"
    }
   ],
   "source": [
    "plt.figure()\n",
    "plt.hist(normalS, bins=50, alpha=0.25, color='r')   # 普通のサイコロ\n",
    "plt.hist(ikasamaS, bins=50, alpha=0.25, color='b')  # イカサマサイコロ\n",
    "plt.show()"
   ]
  },
  {
   "cell_type": "markdown",
   "id": "6a64362a",
   "metadata": {},
   "source": [
    "1個目のグラフは赤色(グラフA)、2個目のグラフは青色（グラフB）である。紫色は2つのグラフで重なっている部分である。\n",
    "またグラフAの期待値は7、グラフBの期待値は9.4、であることを思い出して考える。\n",
    "するとグラフBはグラフAよりも平均値によった値が多いことが分かる。"
   ]
  },
  {
   "cell_type": "markdown",
   "id": "0c509881",
   "metadata": {},
   "source": [
    "## （Ⅱ）結論\n",
    "これを表現した値が分散なのである。データ全体としての平均値に偏りがあるかどうかを判断する値が分散なのである。平均値から離れた値が多ければ分散の値は大きくなり、また平均値に近い値が多ければ多いほど分散の値が小さくなるのである。\n",
    "また分散はデータの二乗という単位である。これは抽象的なデータのばらつきを理解するのには良いが、より具体的にばらつきを理解したいときには向かない。そこで、データと同じ単位のばらつきの指標として標準偏差をとるのである。\n"
   ]
  },
  {
   "cell_type": "markdown",
   "id": "d3f9ee67-c184-4463-8447-2e5b530e4eb5",
   "metadata": {},
   "source": [
    "前 → [1-1 確率統計学を行う目的.ipynb](https://github.com/IT-1009/statistics/blob/main/1-1%20%E7%A2%BA%E7%8E%87%E7%B5%B1%E8%A8%88%E5%AD%A6%E3%82%92%E8%A1%8C%E3%81%86%E7%9B%AE%E7%9A%84.ipynb)"
   ]
  },
  {
   "cell_type": "markdown",
   "id": "eaadc576-d810-4312-af3d-71e7c3beefd2",
   "metadata": {},
   "source": [
    "次 → [1-3 68-95-99.7則.ipynb](https://github.com/IT-1009/statistics/blob/main/1-3%2068-95-99.7%E5%89%87.ipynb)"
   ]
  },
  {
   "cell_type": "markdown",
   "id": "41a39f3f",
   "metadata": {},
   "source": [
    "### 追記：本文とは関係ないですが…\n",
    "分散ってなんで二乗なんだろ～、とか分散の値って感覚として分かりづらいな～、みたいな疑問がずっとあったんですが、この記事を読んで長年の疑問が解消されたので下の記事も是非読んでみてほしいです。参考になると思います。\n",
    "https://rikunora.hatenablog.com/entry/2019/04/09/114614"
   ]
  }
 ],
 "metadata": {
  "kernelspec": {
   "display_name": "Python 3",
   "language": "python",
   "name": "python3"
  },
  "language_info": {
   "codemirror_mode": {
    "name": "ipython",
    "version": 3
   },
   "file_extension": ".py",
   "mimetype": "text/x-python",
   "name": "python",
   "nbconvert_exporter": "python",
   "pygments_lexer": "ipython3",
   "version": "3.8.8"
  }
 },
 "nbformat": 4,
 "nbformat_minor": 5
}
