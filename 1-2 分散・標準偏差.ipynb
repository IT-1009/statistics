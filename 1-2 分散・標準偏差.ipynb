{
 "cells": [
  {
   "cell_type": "markdown",
   "id": "289d2098",
   "metadata": {},
   "source": [
    "# 1-2 分散・標準偏差\n",
    "ここでは分散や標準偏差の定義を学び、数値と表の関係が直感的に分かるようになることを目的とする。"
   ]
  },
  {
   "cell_type": "markdown",
   "id": "1cde6ca9-00b8-4269-9e20-2a78ef6a6c07",
   "metadata": {},
   "source": [
    ">分散や標準偏差は数学の確率の分野で学びます。しかし、求め方自体が問題になる事が多いためそれらの定義や、実際の統計においてどのような使われ方をしているかを理解している学生さんは少ないと思います。そのため、この章では具体的な事象から分散・標準偏差を求め、定義をしっかりと理解することで、表と数字の関係性が直感的に分かるようになると思います。"
   ]
  },
  {
   "cell_type": "markdown",
   "id": "7c2ee1e5",
   "metadata": {},
   "source": [
    "### （Ⅰ）分散・標準偏差の定義\n",
    "①分散\n",
    "\n",
    "統計における分散とはデータのばらつきを表す指標である。分散はそれぞれの数値と平均値の差である偏差を二乗し、平均を取ったものである。分散$\\sigma^2$は次の式で求められる。"
   ]
  },
  {
   "cell_type": "markdown",
   "id": "8c73be12",
   "metadata": {},
   "source": [
    "\\begin{equation}\n",
    "\\ \\sigma^2 = \\frac{1}{n}  \\sum^{n}_{n=1} (x_{i} - \\bar{x})^2\n",
    "\\end{equation}"
   ]
  },
  {
   "cell_type": "markdown",
   "id": "0944927f",
   "metadata": {},
   "source": [
    "$n$はデータの総数、$x_{i}$は各数値、$\\bar{x}$は平均値を表す。"
   ]
  },
  {
   "cell_type": "markdown",
   "id": "bf64f4ee",
   "metadata": {},
   "source": [
    "②標準偏差\n",
    "\n",
    "標準偏差も分散と同じく、データのばらつきを表す指標になっている。標準偏差は各データが平均値から標準的に離れている値を表していて、分散は標準偏差を二乗したものである。標準偏差$\\sigma$は次の式で求められる。"
   ]
  },
  {
   "cell_type": "markdown",
   "id": "b7496b64",
   "metadata": {},
   "source": [
    "\\begin{equation}\n",
    "\\ \\sigma = \\sqrt {\\sigma^2} = \\sqrt {\\frac{1}{n}  \\sum^{n}_{n=1} (x_{i} - \\bar{x})^2}\n",
    "\\end{equation}"
   ]
  },
  {
   "cell_type": "markdown",
   "id": "01330c0e",
   "metadata": {},
   "source": [
    "$n$はデータの総数、$x_{i}$は各数値、$\\bar{x}$は平均値を表す。"
   ]
  },
  {
   "cell_type": "markdown",
   "id": "89c5e5e3",
   "metadata": {},
   "source": [
    "ここまでで定義を説明した。次に、あるデータにおける分散や標準偏差の値とその表を作成する。\n",
    "今回はサイコロを2回振り、それぞれの出た目の合計をデータとして扱う。普通のサイコロ・いかさまサイコロのそれぞれ2種類に関してデータの作成をする。"
   ]
  },
  {
   "cell_type": "markdown",
   "id": "b6d0f8f0",
   "metadata": {},
   "source": [
    "### （Ⅱ）分散・標準偏差の計算\n",
    "### ①普通のサイコロの作成\n",
    "\n",
    "まずは普通のサイコロを作成する。いかさまサイコロを作成する関係上、ダイスの目を配列で扱う。"
   ]
  },
  {
   "cell_type": "code",
   "execution_count": 1,
   "id": "fcd4ce7a",
   "metadata": {},
   "outputs": [],
   "source": [
    "import numpy as np\n",
    "import matplotlib.pyplot as plt\n",
    "import random\n",
    "dice = [1, 2, 3, 4, 5, 6]"
   ]
  },
  {
   "cell_type": "code",
   "execution_count": 2,
   "id": "4e4dd312",
   "metadata": {},
   "outputs": [],
   "source": [
    "#2つのサイコロで1~6の目をランダムに10000回出す\n",
    "num_trial = 10000\n",
    "normal = np.random.choice(dice, num_trial)\n",
    "normal2 = np.random.choice(dice, num_trial)"
   ]
  },
  {
   "cell_type": "code",
   "execution_count": 3,
   "id": "5cc4c192",
   "metadata": {},
   "outputs": [],
   "source": [
    "#2つの目の合計をnormalSとする\n",
    "normalS = normal + normal2"
   ]
  },
  {
   "cell_type": "code",
   "execution_count": 4,
   "id": "19ae8bcb",
   "metadata": {},
   "outputs": [
    {
     "name": "stdout",
     "output_type": "stream",
     "text": [
      "6.98\n"
     ]
    },
    {
     "data": {
      "image/png": "[encoded data removed]",
      "text/plain": [
       "<Figure size 432x288 with 1 Axes>"
      ]
     },
     "metadata": {
      "needs_background": "light"
     },
     "output_type": "display_data"
    }
   ],
   "source": [
    "average = sum(normalS) / len(normalS)\n",
    "print('{:.3g}'.format(average))\n",
    "plt.hist(normalS, bins=50)\n",
    "plt.show()"
   ]
  },
  {
   "cell_type": "markdown",
   "id": "f819a2e8",
   "metadata": {},
   "source": [
    "### ②普通のサイコロの結果まとめ\n",
    "得られた平均値は上のようになった。サイコロを2つ投げて出た目の和の平均値は7であるから、結果よりこのグラフはある程度正確であることが予想できる。\n",
    "グラフを見てみるとこのグラフは綺麗な三角形である。そこから平均値である7が一番出やすく、7から離れている2・12が一番出づらいことが分かる。また、このグラフは偏りの無いグラフであることが分かる。このグラフにおける分散や標準偏差は以下のようである。"
   ]
  },
  {
   "cell_type": "code",
   "execution_count": 5,
   "id": "098680e3",
   "metadata": {},
   "outputs": [
    {
     "name": "stdout",
     "output_type": "stream",
     "text": [
      "5.95\n"
     ]
    }
   ],
   "source": [
    "#分散\n",
    "print('{:.3g}'.format(np.var(normalS)))"
   ]
  },
  {
   "cell_type": "code",
   "execution_count": 6,
   "id": "7fc78e5e",
   "metadata": {},
   "outputs": [
    {
     "name": "stdout",
     "output_type": "stream",
     "text": [
      "2.44\n"
     ]
    }
   ],
   "source": [
    "#標準偏差\n",
    "print('{:.3g}'.format(np.sqrt(np.var(normalS,ddof=0))))"
   ]
  },
  {
   "cell_type": "markdown",
   "id": "54f3be80",
   "metadata": {},
   "source": [
    "分散や標準偏差の値が分かったが、非正規分布の場合はどうなるのだろうか。そこで今度は普通のサイコロではなく、出る目に偏りがあるイカサマのサイコロを作成し、比較してみる。データをを変化させることで平均値や期待値の偏りがどう変化したかに着目する。\n",
    "### ③いかさまサイコロの作成"
   ]
  },
  {
   "cell_type": "code",
   "execution_count": 7,
   "id": "ec5a3e4c",
   "metadata": {},
   "outputs": [],
   "source": [
    "#確率の設定。それぞれの目に対して配列の位置が対応している。ここでは６の目が10/21の確率で出ることとなる。\n",
    "prob = [1/21, 1/21, 1/21, 3/21, 5/21, 10/21]\n",
    "num_trial = 10000\n",
    "ikasama = np.random.choice(dice, num_trial, p=prob)\n",
    "ikasama2 = np.random.choice(dice, num_trial, p=prob)"
   ]
  },
  {
   "cell_type": "code",
   "execution_count": 8,
   "id": "5608480a",
   "metadata": {},
   "outputs": [],
   "source": [
    "ikasamaS = ikasama + ikasama2"
   ]
  },
  {
   "cell_type": "code",
   "execution_count": 9,
   "id": "fe1ed332",
   "metadata": {},
   "outputs": [
    {
     "name": "stdout",
     "output_type": "stream",
     "text": [
      "9.81\n"
     ]
    },
    {
     "data": {
      "image/png": "[encoded data removed]",
      "text/plain": [
       "<Figure size 432x288 with 1 Axes>"
      ]
     },
     "metadata": {
      "needs_background": "light"
     },
     "output_type": "display_data"
    }
   ],
   "source": [
    "average = sum(ikasamaS) / len(ikasamaS)\n",
    "print('{:.3g}'.format(average))\n",
    "plt.hist(ikasamaS, bins=50)\n",
    "plt.show()"
   ]
  },
  {
   "cell_type": "markdown",
   "id": "7cd70c3e",
   "metadata": {},
   "source": [
    "### ④いかさまサイコロの結果まとめ\n",
    "得られた平均値は上のようになった。イカサマサイコロを2つ投げて出る目の和の期待値は9.8であるから、結果よりこのグラフはある程度正確であることが予想できる。\n",
    "グラフを見てみると、一目で偏りがあるグラフであることが分かる。また明らかに7以上が出やすく、2よりも12が出やすいことが一目で分かる。\n",
    "このグラフにおける分散や標準偏差は以下のようである。"
   ]
  },
  {
   "cell_type": "code",
   "execution_count": 10,
   "id": "b4293f88",
   "metadata": {},
   "outputs": [
    {
     "name": "stdout",
     "output_type": "stream",
     "text": [
      "4.07\n"
     ]
    }
   ],
   "source": [
    "#分散\n",
    "print('{:.3g}'.format(np.var(ikasamaS)))"
   ]
  },
  {
   "cell_type": "code",
   "execution_count": 11,
   "id": "a68ae9ea",
   "metadata": {},
   "outputs": [
    {
     "name": "stdout",
     "output_type": "stream",
     "text": [
      "2.02\n"
     ]
    }
   ],
   "source": [
    "#標準偏差\n",
    "print('{:.3g}'.format(np.sqrt(np.var(ikasamaS,ddof=0))))"
   ]
  },
  {
   "cell_type": "markdown",
   "id": "f43ef34b",
   "metadata": {},
   "source": [
    "1個目のデータから得られた分散や標準偏差の値に比べ、こちらの値は小さくなったことが分かる。\n",
    "このことから何が言えるか。比較しやすいように2つのグラフを重ねたものも作成してみる。"
   ]
  },
  {
   "cell_type": "markdown",
   "id": "01b94e0c-6359-41a1-b136-9128a1109583",
   "metadata": {},
   "source": [
    "### ⑤表の比較"
   ]
  },
  {
   "cell_type": "code",
   "execution_count": 12,
   "id": "f9f1d462",
   "metadata": {},
   "outputs": [
    {
     "data": {
      "image/png": "[encoded data removed]",
      "text/plain": [
       "<Figure size 432x288 with 1 Axes>"
      ]
     },
     "metadata": {
      "needs_background": "light"
     },
     "output_type": "display_data"
    }
   ],
   "source": [
    "plt.figure()\n",
    "plt.hist(normalS, bins=50, alpha=0.25, color='r')   # 普通のサイコロ\n",
    "plt.hist(ikasamaS, bins=50, alpha=0.25, color='b')  # イカサマサイコロ\n",
    "plt.show()"
   ]
  },
  {
   "cell_type": "code",
   "execution_count": 17,
   "id": "4f4ebf1e-628e-4d48-8b71-12bfb74534e8",
   "metadata": {},
   "outputs": [
    {
     "name": "stdout",
     "output_type": "stream",
     "text": [
      "A分散 5.95\n",
      "A標準偏差 2.44\n",
      "B分散 4.07\n",
      "B標準偏差 2.02\n"
     ]
    }
   ],
   "source": [
    "print(\"A分散\",'{:.3g}'.format(np.var(normalS)))\n",
    "print(\"A標準偏差\",'{:.3g}'.format(np.sqrt(np.var(normalS,ddof=0))))\n",
    "print(\"B分散\",'{:.3g}'.format(np.var(ikasamaS)))\n",
    "print(\"B標準偏差\",'{:.3g}'.format(np.sqrt(np.var(ikasamaS,ddof=0))))"
   ]
  },
  {
   "cell_type": "markdown",
   "id": "6a64362a",
   "metadata": {},
   "source": [
    "1個目のグラフは赤色(グラフA)、2個目のグラフは青色（グラフB）である。紫色は2つのグラフで重なっている部分である。\n",
    "またグラフAの期待値は7、グラフBの期待値は9.4、であることを思い出して考える。\n",
    "\n",
    "するとグラフBはグラフAよりも平均値によった値が多いことが分かる。"
   ]
  },
  {
   "cell_type": "markdown",
   "id": "0c509881",
   "metadata": {},
   "source": [
    "## （Ⅲ）結論\n",
    "分散とは、データ全体の値の距離の平均を表す値である。データ全体に偏りがあるかどうかを判断する値が分散なのである。平均値から離れた値が多ければ分散は大きくなり、また平均値に近い値が多ければ多いほど分散は小さくなる。\n",
    "また分散はデータの二乗という単位である。これはデータのばらつきを抽象的に理解するのには向いていが、具体的な値でのばらつきを理解したいときには向かない。そこで、データと同じ単位のばらつきの指標として標準偏差をとるのである。標準偏差の単位はデータと同じ単位であるため、よりばらつきがどれくらいあるかが分かりやすいのである。また単位が統一されているため、加減法が可能という性質もある。この性質に関しては次章で詳しく説明する。"
   ]
  },
  {
   "cell_type": "markdown",
   "id": "d3f9ee67-c184-4463-8447-2e5b530e4eb5",
   "metadata": {},
   "source": [
    "前 → [1-1 確率統計学を行う目的.ipynb](https://github.com/IT-1009/statistics/blob/main/1-1%20%E7%A2%BA%E7%8E%87%E7%B5%B1%E8%A8%88%E5%AD%A6%E3%82%92%E8%A1%8C%E3%81%86%E7%9B%AE%E7%9A%84.ipynb)"
   ]
  },
  {
   "cell_type": "markdown",
   "id": "eaadc576-d810-4312-af3d-71e7c3beefd2",
   "metadata": {},
   "source": [
    "次 → [1-3 標準偏差が持つルール、68–95–99.7則.ipynb](https://github.com/IT-1009/statistics/blob/main/1-3%20%E6%A8%99%E6%BA%96%E5%81%8F%E5%B7%AE%E3%81%8C%E6%8C%81%E3%81%A4%E3%83%AB%E3%83%BC%E3%83%AB%E3%80%8168%E2%80%9395%E2%80%9399.7%E5%89%87.ipynb)"
   ]
  },
  {
   "cell_type": "markdown",
   "id": "41a39f3f",
   "metadata": {},
   "source": [
    "### 追記：本文とは関係ないですが…\n",
    "分散ってなんで二乗なんだろ～、とか分散の値って感覚として分かりづらいな～、みたいな疑問がずっとあったんですが、この記事を読んで長年の疑問が解消されたので下の記事も是非読んでみてほしいです。参考になると思います。\n",
    "https://rikunora.hatenablog.com/entry/2019/04/09/114614"
   ]
  }
 ],
 "metadata": {
  "kernelspec": {
   "display_name": "Python 3",
   "language": "python",
   "name": "python3"
  },
  "language_info": {
   "codemirror_mode": {
    "name": "ipython",
    "version": 3
   },
   "file_extension": ".py",
   "mimetype": "text/x-python",
   "name": "python",
   "nbconvert_exporter": "python",
   "pygments_lexer": "ipython3",
   "version": "3.8.8"
  }
 },
 "nbformat": 4,
 "nbformat_minor": 5
}
